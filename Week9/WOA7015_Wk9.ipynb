{
  "cells": [
    {
      "cell_type": "markdown",
      "metadata": {
        "id": "view-in-github",
        "colab_type": "text"
      },
      "source": [
        "<a href=\"https://colab.research.google.com/github/shiernee/Advanced_ML/blob/main/Week9/WOA7015_Wk9.ipynb\" target=\"_parent\"><img src=\"https://colab.research.google.com/assets/colab-badge.svg\" alt=\"Open In Colab\"/></a>"
      ]
    },
    {
      "cell_type": "markdown",
      "metadata": {
        "id": "KwhKoOIwVMCq"
      },
      "source": [
        "# Welcome to WOA7015 Advance Machine Learning Lab - Week 9\n",
        "This code is generated for the purpose of WOA7015 module.\n",
        "The code is available in github https://github.com/shiernee/Advanced_ML \n"
      ]
    },
    {
      "cell_type": "markdown",
      "source": [
        "# Section1 : Massage Passing\n",
        "In this section, we go through the computation we covered in Massage Passing  "
      ],
      "metadata": {
        "id": "zkCzXXnhU7QI"
      }
    },
    {
      "cell_type": "code",
      "source": [
        "import numpy as np\n",
        "from scipy.linalg import sqrtm \n",
        "from scipy.special import softmax\n",
        "from networkx.algorithms.community.modularity_max import greedy_modularity_communities\n",
        "import matplotlib.pyplot as plt\n",
        "from matplotlib import animation\n",
        "%matplotlib inline\n",
        "from IPython.display import HTML"
      ],
      "metadata": {
        "id": "1uPyrdVzU9-v"
      },
      "execution_count": 47,
      "outputs": []
    },
    {
      "cell_type": "markdown",
      "source": [
        "### create adjacent matrix in slide 56. \n",
        "\n",
        "<br>\n",
        "<img src=\"https://raw.githubusercontent.com/shiernee/Advanced_ML/main/Week9/Adj_matrix.PNG\" width=\"512\"/>"
      ],
      "metadata": {
        "id": "R6D2s2E3ZvxB"
      }
    },
    {
      "cell_type": "code",
      "source": [
        "# create adjacent matrix as above\n"
      ],
      "metadata": {
        "id": "ASfQp3a2VRij"
      },
      "execution_count": 48,
      "outputs": []
    },
    {
      "cell_type": "code",
      "source": [
        "#@title Solution\n",
        "A = np.array(\n",
        "    [[0, 1, 0, 0, 0], \n",
        "     [1, 0, 1, 0, 0], \n",
        "     [0, 1, 0, 1, 1], \n",
        "     [0, 0, 1, 0, 0], \n",
        "     [0, 0, 1, 0, 0]]\n",
        ")\n",
        "A"
      ],
      "metadata": {
        "cellView": "form",
        "id": "3Xy2nY1ZbxV9",
        "colab": {
          "base_uri": "https://localhost:8080/"
        },
        "outputId": "6ba1f6e7-a104-42fb-96e7-b8a391f9fcc9"
      },
      "execution_count": 49,
      "outputs": [
        {
          "output_type": "execute_result",
          "data": {
            "text/plain": [
              "array([[0, 1, 0, 0, 0],\n",
              "       [1, 0, 1, 0, 0],\n",
              "       [0, 1, 0, 1, 1],\n",
              "       [0, 0, 1, 0, 0],\n",
              "       [0, 0, 1, 0, 0]])"
            ]
          },
          "metadata": {},
          "execution_count": 49
        }
      ]
    },
    {
      "cell_type": "code",
      "source": [
        "# create feature vector with [1,2,3,4,5] of a shape of (5,1)\n"
      ],
      "metadata": {
        "id": "tQYIJr-VU62h"
      },
      "execution_count": 50,
      "outputs": []
    },
    {
      "cell_type": "code",
      "source": [
        "#@title Solution\n",
        "feats = np.arange(A.shape[0]).reshape((-1,1))+1\n",
        "feats"
      ],
      "metadata": {
        "cellView": "form",
        "id": "6cDij3VNb-lk",
        "colab": {
          "base_uri": "https://localhost:8080/"
        },
        "outputId": "8e867e87-1abc-46cd-c9fd-77aef56abb04"
      },
      "execution_count": 51,
      "outputs": [
        {
          "output_type": "execute_result",
          "data": {
            "text/plain": [
              "array([[1],\n",
              "       [2],\n",
              "       [3],\n",
              "       [4],\n",
              "       [5]])"
            ]
          },
          "metadata": {},
          "execution_count": 51
        }
      ]
    },
    {
      "cell_type": "code",
      "source": [
        "# matrix multiplication - @. \n",
        "# compute new feature vector using sum \n"
      ],
      "metadata": {
        "id": "VGat6IsAVbE_"
      },
      "execution_count": 52,
      "outputs": []
    },
    {
      "cell_type": "code",
      "source": [
        "#@title Solution\n",
        "H = A @ feats\n",
        "H"
      ],
      "metadata": {
        "cellView": "form",
        "id": "4AOYIn8HcDex",
        "colab": {
          "base_uri": "https://localhost:8080/"
        },
        "outputId": "04a6ab94-470f-4e00-a1c1-fa173871ba0b"
      },
      "execution_count": 53,
      "outputs": [
        {
          "output_type": "execute_result",
          "data": {
            "text/plain": [
              "array([[ 2],\n",
              "       [ 4],\n",
              "       [11],\n",
              "       [ 3],\n",
              "       [ 3]])"
            ]
          },
          "metadata": {},
          "execution_count": 53
        }
      ]
    },
    {
      "cell_type": "markdown",
      "source": [
        "### Scale neighborhood sum by neighborhood size (i.e. average values)"
      ],
      "metadata": {
        "id": "IhVhOhayVcf7"
      }
    },
    {
      "cell_type": "code",
      "source": [
        "# create degree matrix \n"
      ],
      "metadata": {
        "id": "rziwbzPPVdCQ"
      },
      "execution_count": 54,
      "outputs": []
    },
    {
      "cell_type": "code",
      "source": [
        "#@title Solution\n",
        "D = np.zeros(A.shape)\n",
        "np.fill_diagonal(D, A.sum(axis=0))\n",
        "D"
      ],
      "metadata": {
        "cellView": "form",
        "id": "qHyZYdFFcG14",
        "colab": {
          "base_uri": "https://localhost:8080/"
        },
        "outputId": "73d6be3c-8cf7-4c38-9d54-1db876fab5f9"
      },
      "execution_count": 55,
      "outputs": [
        {
          "output_type": "execute_result",
          "data": {
            "text/plain": [
              "array([[1., 0., 0., 0., 0.],\n",
              "       [0., 2., 0., 0., 0.],\n",
              "       [0., 0., 3., 0., 0.],\n",
              "       [0., 0., 0., 1., 0.],\n",
              "       [0., 0., 0., 0., 1.]])"
            ]
          },
          "metadata": {},
          "execution_count": 55
        }
      ]
    },
    {
      "cell_type": "code",
      "source": [
        "# compute D inverse \n"
      ],
      "metadata": {
        "id": "EUiJXL2XVfUn"
      },
      "execution_count": 56,
      "outputs": []
    },
    {
      "cell_type": "code",
      "source": [
        "#@title Solution\n",
        "D_inv = np.linalg.inv(D)\n",
        "D_inv"
      ],
      "metadata": {
        "cellView": "form",
        "id": "QZUlgskHcMT6",
        "colab": {
          "base_uri": "https://localhost:8080/"
        },
        "outputId": "f243dcd6-6e3a-4bce-fbde-7ae61e3bb08b"
      },
      "execution_count": 57,
      "outputs": [
        {
          "output_type": "execute_result",
          "data": {
            "text/plain": [
              "array([[1.        , 0.        , 0.        , 0.        , 0.        ],\n",
              "       [0.        , 0.5       , 0.        , 0.        , 0.        ],\n",
              "       [0.        , 0.        , 0.33333333, 0.        , 0.        ],\n",
              "       [0.        , 0.        , 0.        , 1.        , 0.        ],\n",
              "       [0.        , 0.        , 0.        , 0.        , 1.        ]])"
            ]
          },
          "metadata": {},
          "execution_count": 57
        }
      ]
    },
    {
      "cell_type": "code",
      "source": [
        "# compute Scaled adjacent matrix \n"
      ],
      "metadata": {
        "id": "aH-Lz5A3VgoZ"
      },
      "execution_count": 58,
      "outputs": []
    },
    {
      "cell_type": "code",
      "source": [
        "#@title Solution\n",
        "A_avg = D_inv @ A "
      ],
      "metadata": {
        "cellView": "form",
        "id": "Jaiv8bPYcPq_"
      },
      "execution_count": 59,
      "outputs": []
    },
    {
      "cell_type": "code",
      "source": [
        "# compute new features vector using average \n"
      ],
      "metadata": {
        "id": "bG5iWntgVh3_"
      },
      "execution_count": 60,
      "outputs": []
    },
    {
      "cell_type": "code",
      "source": [
        "#@title Solution\n",
        "H_avg = A_avg @ feats\n",
        "H_avg"
      ],
      "metadata": {
        "cellView": "form",
        "id": "DEkT28G_cUIL",
        "colab": {
          "base_uri": "https://localhost:8080/"
        },
        "outputId": "b6000de1-9838-4b1a-8518-3c4a9d29b841"
      },
      "execution_count": 61,
      "outputs": [
        {
          "output_type": "execute_result",
          "data": {
            "text/plain": [
              "array([[2.        ],\n",
              "       [2.        ],\n",
              "       [3.66666667],\n",
              "       [3.        ],\n",
              "       [3.        ]])"
            ]
          },
          "metadata": {},
          "execution_count": 61
        }
      ]
    },
    {
      "cell_type": "markdown",
      "source": [
        "# Section 2: Water drop experiment using GCN "
      ],
      "metadata": {
        "id": "AofLq5plVjJG"
      }
    },
    {
      "cell_type": "code",
      "source": [
        "import networkx as nx\n",
        "\n",
        "# create a network based on matrix A\n",
        "g = nx.from_numpy_array(A)\n"
      ],
      "metadata": {
        "id": "zC47dOq-Vjkx"
      },
      "execution_count": 62,
      "outputs": []
    },
    {
      "cell_type": "markdown",
      "source": [
        "### Create network and visualize the network "
      ],
      "metadata": {
        "id": "p1-Y_S2wcjDJ"
      }
    },
    {
      "cell_type": "code",
      "source": [
        "node_labels = {i: i+1 for i in range(g.number_of_nodes())}\n",
        "pos = nx.planar_layout(g)\n",
        "\n",
        "fig, ax = plt.subplots(figsize=(10,10))\n",
        "nx.draw(\n",
        "    g, pos, with_labels=True, \n",
        "    labels=node_labels, \n",
        "    node_color='#83C167', \n",
        "    ax=ax, edge_color='gray', node_size=1500, font_size=30, font_family='serif'\n",
        ")\n",
        "plt.savefig('simple_graph.png', bbox_inches='tight', transparent=True)"
      ],
      "metadata": {
        "colab": {
          "base_uri": "https://localhost:8080/",
          "height": 575
        },
        "id": "qcJ2FvHsXjc4",
        "outputId": "e543f905-dd42-42ef-ddcc-6e27e548d0f8"
      },
      "execution_count": 63,
      "outputs": [
        {
          "output_type": "display_data",
          "data": {
            "image/png": "[encoded data removed]",
            "text/plain": [
              "<Figure size 720x720 with 1 Axes>"
            ]
          },
          "metadata": {}
        }
      ]
    },
    {
      "cell_type": "code",
      "source": [
        "# commpute A_tilda = A + identify matrix\n",
        "print(g.number_of_nodes())\n",
        "print()\n",
        "print(np.eye(g.number_of_nodes()))\n",
        "print()\n",
        "A_tilda = A + np.eye(g.number_of_nodes())\n",
        "\n",
        "print(A_tilda)"
      ],
      "metadata": {
        "colab": {
          "base_uri": "https://localhost:8080/"
        },
        "id": "R2_MOk8oVmIB",
        "outputId": "1df413cd-dc0c-4a85-c236-3277b6885de9"
      },
      "execution_count": 64,
      "outputs": [
        {
          "output_type": "stream",
          "name": "stdout",
          "text": [
            "5\n",
            "\n",
            "[[1. 0. 0. 0. 0.]\n",
            " [0. 1. 0. 0. 0.]\n",
            " [0. 0. 1. 0. 0.]\n",
            " [0. 0. 0. 1. 0.]\n",
            " [0. 0. 0. 0. 1.]]\n",
            "\n",
            "[[1. 1. 0. 0. 0.]\n",
            " [1. 1. 1. 0. 0.]\n",
            " [0. 1. 1. 1. 1.]\n",
            " [0. 0. 1. 1. 0.]\n",
            " [0. 0. 1. 0. 1.]]\n"
          ]
        }
      ]
    },
    {
      "cell_type": "code",
      "source": [
        "# compute D_tilda_inverse_root for A_tilda:\n",
        "\n",
        "\n",
        "\n",
        "# Inverse square root of D:\n"
      ],
      "metadata": {
        "id": "4tbIfMkNWv8u"
      },
      "execution_count": 65,
      "outputs": []
    },
    {
      "cell_type": "code",
      "source": [
        "#@title Solution\n",
        "# compute D_tilda_inverse_root for A_tilda:\n",
        "D_tilda = np.zeros_like(A_tilda)\n",
        "np.fill_diagonal(D_tilda, A_tilda.sum(axis=1).flatten())\n",
        "print(D_tilda)\n",
        "print()\n",
        "\n",
        "# Inverse square root of D:\n",
        "D_tilda_invroot = np.linalg.inv(sqrtm(D_tilda))\n",
        "print(D_tilda_invroot)"
      ],
      "metadata": {
        "cellView": "form",
        "id": "-hhzwRDhceP6",
        "colab": {
          "base_uri": "https://localhost:8080/"
        },
        "outputId": "ce1f4367-4472-4343-b4ab-bc99b407faa9"
      },
      "execution_count": 66,
      "outputs": [
        {
          "output_type": "stream",
          "name": "stdout",
          "text": [
            "[[2. 0. 0. 0. 0.]\n",
            " [0. 3. 0. 0. 0.]\n",
            " [0. 0. 4. 0. 0.]\n",
            " [0. 0. 0. 2. 0.]\n",
            " [0. 0. 0. 0. 2.]]\n",
            "\n",
            "[[0.70710678 0.         0.         0.         0.        ]\n",
            " [0.         0.57735027 0.         0.         0.        ]\n",
            " [0.         0.         0.5        0.         0.        ]\n",
            " [0.         0.         0.         0.70710678 0.        ]\n",
            " [0.         0.         0.         0.         0.70710678]]\n"
          ]
        }
      ]
    },
    {
      "cell_type": "code",
      "source": [
        "# compute A_hat \n"
      ],
      "metadata": {
        "id": "vNGLPIsyeGvY"
      },
      "execution_count": 67,
      "outputs": []
    },
    {
      "cell_type": "code",
      "source": [
        "#@title Solution\n",
        "A_hat = D_tilda_invroot @ A_tilda @ D_tilda_invroot"
      ],
      "metadata": {
        "cellView": "form",
        "id": "0DN13DJtcmzy"
      },
      "execution_count": 68,
      "outputs": []
    },
    {
      "cell_type": "code",
      "source": [
        "# Perform water drop experiment. Initially, only H[0,0]= 1. Iterate 10 times. \n",
        "\n",
        "H = np.zeros((g.number_of_nodes(), 1))\n",
        "H[0,0] = 1 # the \"water drop\"\n",
        "iters = 10\n",
        "results = [H.flatten()]\n",
        "print('signal input: ' + str(H.flatten()))\n",
        "\n",
        "for i in range(iters):\n",
        "    H = A_hat @ H\n",
        "    print('--------------------------------')\n",
        "    print('iteration: ' + str(i) + ' signal output: ' + str(H.flatten()))\n",
        "    results.append(H.flatten())"
      ],
      "metadata": {
        "id": "y9wPle5TeZK7",
        "colab": {
          "base_uri": "https://localhost:8080/"
        },
        "outputId": "a3396a2e-16c4-4117-f17e-b4ebd7c56e91"
      },
      "execution_count": 69,
      "outputs": [
        {
          "output_type": "stream",
          "name": "stdout",
          "text": [
            "signal input: [1. 0. 0. 0. 0.]\n",
            "--------------------------------\n",
            "iteration: 0 signal output: [0.5        0.40824829 0.         0.         0.        ]\n",
            "--------------------------------\n",
            "iteration: 1 signal output: [0.41666667 0.34020691 0.11785113 0.         0.        ]\n",
            "--------------------------------\n",
            "iteration: 2 signal output: [0.34722222 0.31752645 0.12767206 0.04166667 0.04166667]\n",
            "--------------------------------\n",
            "iteration: 3 signal output: [0.30324074 0.28445078 0.15304279 0.06597222 0.06597222]\n",
            "--------------------------------\n",
            "iteration: 4 signal output: [0.26774691 0.26279409 0.16702397 0.08709491 0.08709491]\n",
            "--------------------------------\n",
            "iteration: 5 signal output: [0.24115869 0.24512092 0.17920351 0.10259934 0.10259934]\n",
            "--------------------------------\n",
            "iteration: 6 signal output: [0.22064954 0.23189119 0.18810988 0.11465768 0.11465768]\n",
            "--------------------------------\n",
            "iteration: 7 signal output: [0.20499395 0.22167951 0.19504392 0.12383573 0.12383573]\n",
            "--------------------------------\n",
            "iteration: 8 signal output: [0.19299726 0.21388593 0.20031942 0.1308763  0.1308763 ]\n",
            "--------------------------------\n",
            "iteration: 9 signal output: [0.18381719 0.20791335 0.20436693 0.13626176 0.13626176]\n"
          ]
        }
      ]
    },
    {
      "cell_type": "code",
      "source": [
        "fig, ax = plt.subplots(figsize=(10, 10))\n",
        "\n",
        "kwargs = {'cmap': 'hot', 'node_size': 1500, 'edge_color': 'gray', \n",
        "          'vmin': np.array(results).min(), 'vmax': np.array(results).max()*1.1}\n",
        "\n",
        "def update(idx):\n",
        "    ax.clear()\n",
        "    colors = results[idx]\n",
        "    nx.draw(g, pos, node_color=colors, ax=ax, **kwargs)\n",
        "    ax.set_title(f\"Iter={idx}\", fontsize=20)\n",
        "\n",
        "anim = animation.FuncAnimation(fig, update, frames=len(results), interval=1000, repeat=True)\n"
      ],
      "metadata": {
        "id": "GBH3bUFaeoNe",
        "colab": {
          "base_uri": "https://localhost:8080/",
          "height": 596
        },
        "outputId": "3319d7cf-0ca8-4a79-c693-dabd454a3d32"
      },
      "execution_count": 70,
      "outputs": [
        {
          "output_type": "display_data",
          "data": {
            "image/png": "[encoded data removed]",
            "text/plain": [
              "<Figure size 720x720 with 1 Axes>"
            ]
          },
          "metadata": {}
        }
      ]
    },
    {
      "cell_type": "code",
      "source": [
        "anim.save(\n",
        "    'water_drop.mp4', \n",
        "    dpi=600, bitrate=-1,\n",
        "    savefig_kwargs={'transparent': True, 'facecolor': 'none'},\n",
        ")\n",
        "\n",
        "HTML(anim.to_html5_video())"
      ],
      "metadata": {
        "id": "v5yu6EsyflhI",
        "colab": {
          "base_uri": "https://localhost:8080/",
          "height": 741
        },
        "outputId": "f44f0db2-2f24-4f6d-d25a-c2a4c05d092d"
      },
      "execution_count": 71,
      "outputs": [
        {
          "output_type": "execute_result",
          "data": {
            "text/html": [
              "<video width=\"720\" height=\"720\" controls autoplay loop>\n",
              "  <source type=\"video/mp4\" src=\"data:video/mp4;base64,AAAAHGZ0eXBNNFYgAAACAGlzb21pc28yYXZjMQAAAAhmcmVlAAAy2m1kYXQAAAKtBgX//6ncRem9\n",
              "5tlIt5Ys2CDZI+7veDI2NCAtIGNvcmUgMTUyIHIyODU0IGU5YTU5MDMgLSBILjI2NC9NUEVHLTQg\n",
              "QVZDIGNvZGVjIC0gQ29weWxlZnQgMjAwMy0yMDE3IC0gaHR0cDovL3d3dy52aWRlb2xhbi5vcmcv\n",
              "eDI2NC5odG1sIC0gb3B0aW9uczogY2FiYWM9MSByZWY9MyBkZWJsb2NrPTE6MDowIGFuYWx5c2U9\n",
              "MHgzOjB4MTEzIG1lPWhleCBzdWJtZT03IHBzeT0xIHBzeV9yZD0xLjAwOjAuMDAgbWl4ZWRfcmVm\n",
              "PTEgbWVfcmFuZ2U9MTYgY2hyb21hX21lPTEgdHJlbGxpcz0xIDh4OGRjdD0xIGNxbT0wIGRlYWR6\n",
              "b25lPTIxLDExIGZhc3RfcHNraXA9MSBjaHJvbWFfcXBfb2Zmc2V0PS0yIHRocmVhZHM9MyBsb29r\n",
              "YWhlYWRfdGhyZWFkcz0xIHNsaWNlZF90aHJlYWRzPTAgbnI9MCBkZWNpbWF0ZT0xIGludGVybGFj\n",
              "ZWQ9MCBibHVyYXlfY29tcGF0PTAgY29uc3RyYWluZWRfaW50cmE9MCBiZnJhbWVzPTMgYl9weXJh\n",
              "bWlkPTIgYl9hZGFwdD0xIGJfYmlhcz0wIGRpcmVjdD0xIHdlaWdodGI9MSBvcGVuX2dvcD0wIHdl\n",
              "aWdodHA9MiBrZXlpbnQ9MjUwIGtleWludF9taW49MSBzY2VuZWN1dD00MCBpbnRyYV9yZWZyZXNo\n",
              "PTAgcmNfbG9va2FoZWFkPTQwIHJjPWNyZiBtYnRyZWU9MSBjcmY9MjMuMCBxY29tcD0wLjYwIHFw\n",
              "bWluPTAgcXBtYXg9NjkgcXBzdGVwPTQgaXBfcmF0aW89MS40MCBhcT0xOjEuMDAAgAAAFMpliIQA\n",
              "F//+99S3zLLtU2+2C6j3op4mX0N1JQGblsTtOoAAAAMAAAMAAAMA6VSCY3zuANGMtAAAAwBTwAqY\n",
              "FysS1LS+KwbwAEJdNUDojuuZhVS+tJJUdPtzlgAkA6z9wpTqWiGnZpn/L2+JSVqn2Is/JE+B4B5O\n",
              "qxfG234gqjxps7qCbwP56q1HFihhMLBC06W0ZDja6Ohuq+JjeWmZJoYW+JoHjlCZp01c6c3wTvEa\n",
              "hZZQ47MKIrVJctQ2cui0NjbDnfll0Yqy3bIMcYh0Z1VzgMU+DNlIwtOyM48w22QHVXycMozu/VAN\n",
              "1eDecN7qGzfMkWYA4HeYCDsaR/5GYPSGPRMHn0SRE7tArLSpNQX5Upph0wZ7oC2q93re4PYO6Xio\n",
              "LJReT8yIWlCOLx1dABs6l6BuxPWcx+KcPx7lFlkw08RFjDuWFQ7Yids6LkvM1wBSGcB5rnHeKmBL\n",
              "8HI+puGLigdCa24FHXHGjlctcxJnyhAWxSsdCKfYREBnOt7qhnHmBVuMUw8AUtBKD3F+pa0+vvKB\n",
              "Kyjd78CtYPOtYEFI52ndEBNoMGNarmE2to54dT3dJ7/P61eshnglGtoG9GsN/BXy7Zsg+ktm0u0U\n",
              "EAYAExOc8qRS18SxGoVXYaPShhTsrM2r3ym8NNEiwaIpi/JtQrRUagIkfg/I8ALtzMGg+m2C0xLO\n",
              "KlXQTDrm91lcW+2b5KUVc57oqY1OPglq/Q5U5uY67qaHA6T3BPuGtzEitM8jJQx079io7SBnAOZt\n",
              "TAdgTLFXPrtb0dzKr7wbF1biL8GY/t3uGPgNxvWFNene3g57DjeCmDqT+BzAPiq53i4UKTbbo2UZ\n",
              "QUMpNXL8V/AqfJus2p8xkYCWk4AHhf6j5/xu9ykZ+R8kacbV9xP29lhZr/FssYQu3bc9NqVH9+5b\n",
              "VqCxr/8PeG+tWkvDG9ZIOI2QieVBJEYCm76FZSkwfCKhQnuAD8Jt8lPKU5tz+gLwxLFuTASV5hZ9\n",
              "qN+b8wGf7sbQYQFb22VkFgIwt6n2yByP68dHiIlBEtsMn0b4vi1p8brD1+BRkYnDPnSlw7FnMlKZ\n",
              "Qa7hB1LACG7Q3yIFqA+X7t1fqXNx4In9/7ip5fZMPgdDFuHLhKgcXUb6m2axgvfhTUPi7pkStasx\n",
              "iDI5+xpxDQQZZwI83aAp8fO76Y8OtOcTHaZnaqt+coVsUSD9ro5guzqjzPQNtOtBgYmmeb4S14bK\n",
              "WvACNmHkC1TJ9i/mfFZeYzNyL2rAktlg2Ex6gkjj2NzcHMKn7J604RlSly8xy5dGHzqzp3ZLXlf2\n",
              "mqyiM+Mv7glthVOwd77Y4ESqwBUV5vmx0faSsMnUh/vRuuy0VqVwUwF55fJPkGr6/cw+bK1oQSa4\n",
              "ILx0Lft2tIcqyarWe0xu0aq1rZ7RexWIp7nsym1/KVJiwu9jPgMAlQEsyj8MsWpLC0d8ktiUTTJb\n",
              "5AZpm+MiIM+Q5A3r5tvjhFyNl33VmskUaKTU5pJt5MyeLyXBlggo2rFqhxun+loN+bOgPGnx2XXR\n",
              "gmiie4dx9BEjoJc9qrrOIQs3m7nz6FTP/GIfG1od3PACL1rU+NMErwITohCJkdyeOmzDSfJUdZDL\n",
              "V/oAYU8eKH3D3i6/neAuAi3ywXyBDpSzAkQceSijpkXI8YkoxoXA/EqirYF1ddBYhRVoIVLwpy92\n",
              "E2utVP+KUPJQhNPnZmyZCgdATSWmcHpaeW9RR8crXRfnV+dSBbrF53OY8bNzgOnzC0ieQAT5LWo9\n",
              "FW/p53JvrUFXcJzndq9VzRIYkZ5N3YLEkv68Re5djx3ToiSXxtwDtyf83TLbCy6Tvp1mCFEO4BGx\n",
              "vaehaglqT2fffQUYCs3cMxOQkqSz88zms+2hcmgtkJ/dZXUdcoxoe0BDhs1PuZTW4KC2ghqkxFTz\n",
              "gBGHRuUJ64zBGcPfBAzeVO2MBW4aplUxCobAT9Yg+olLmJMX7FZwugOiNtbO3iBPj4KcZW6Kr6JN\n",
              "MMwQzwRjSG2Rxkpr/5ZJCEkHFPA+Q3egybRoclJG2382vLFuHS2qek0T3sywuc+D9yYs+VXV2xLh\n",
              "3FqlrAfaLacE+Z3ZQCrdYYnIPqqH6FkkgoKChAKpqpfwq1EhtJJLdJ6pmbpAxqwx8AExx8+LOLyF\n",
              "lgE7aaW38ai83RmCWwCcQVGhe40iqQBe1JVPW496NqWIy/69+cCalhhvifVV+iEDF8LRXZ7vPRQb\n",
              "veVd5heaNA7XNBDELma1GbC03dCrsJ8pclhx4VmhazIzX74HKRExAO5E/8xT19yFqXeKEgVdelnP\n",
              "7WoGEOQc6ZBEJXKY7egAy6lRIIMkTgsfGLXCjI7ryvxJzs06qfT6qOaJg02qFEyE3FEZVNmkSEXW\n",
              "Dx/+v1lrCqxQUzL4QKZw8sCjLHpu8QaKkd9TGp1JOtCgscB2ukWyifYIqFDnzCqdLvXkPGpXBl00\n",
              "yymxDHzoD2kIocfhIwueLIj92P5e5w7ggJWd720i0UVmj1lx3ZqTTRuhqFM2v7Ekd+Q5olgEkfQR\n",
              "lHIarQk0f1u4r9wVwTcPLLFXBBtye9XokWrKzkzrKdPUXzo2X3y2WqPQ70EfvzPdV/2Qt8x6xIZ6\n",
              "QhSefUZ3hPBLB5zatSBqg9CSwTcmkVui8OD/lZZs0xQ6GXCnacSadRopUnUwDfFw3WQFoz4V7wO4\n",
              "PWjdpIP9odqBF3r9MEVr0VSR5N/ytGooiOuzHFag3vGDm1ED4CGD4A56d2kCgTPy5UjaTiKK4mQQ\n",
              "XBXBZ+IEZAcNtyTqGxSvTv+fr9Fm4RHY8bGe4g9OzVNm8Rr1lIHoQhXOu7EYldyXJBwcpkPJxA/i\n",
              "QNWt71sHj4y25H6aTMmxH3WrXr5YQCQ/bqZE9j9TvgIw95BFMXjoPyHvcnAGgaBtiYBmu9E9MLWG\n",
              "9vp1seDhi8Yo96Y/TFf+JDyCuloQrZODDt+Tcmf3o6Z4WuEwAi5nwdzZMP0Nw2Q4Azp2AAmXYUXX\n",
              "7uNr/YiWf040rIBlIAytHyeAg7gi8qb8N1DQIZ9ua3ZJcqNF+WIp8Fhu0K3Ph3z8X1PQXtfaxICL\n",
              "srQgiruEjLzG1MGaBGxELxGVnsS0ayp/iIp70a+Kn6aNa8J+F9rZYkfJed/3tABj5S2huCFxp9+I\n",
              "vbh2kjhmqHWCPMJmJGM1L0y9F5DPSCYHowQgQ8Zr7vOAyPPBAhJQgtwAAM49/NdGU6Em0lrX22wp\n",
              "hCpxu33NjEhl2ARdBV4DVW7FkHIC/lvEDM6wePUMBZpQe2by/QvWEqMDWdi21GNsMbhvahepsbHe\n",
              "B+WqqWEFKTRXhphQ/Tl4J3cLZMOouvJ83qf1mL/B/r00mKDRfhHgH7aH6wWwbYbX0p+Y2zp1pLSk\n",
              "6pjZs9DG6H4jxr2jTWGYh3d6GZHo3tsutOIPhhprB8EqfQkWKsmtD9sqJVClFh68ZbwQlHWqXYS5\n",
              "TW0VYYNud5THPXSdD0JELO6mLznCEL8zqzaYlktPL8SoqcvuS8WBEMPkIKgIT5EDi3mHBPLVO5Fx\n",
              "5SQThm35wfoiLw5c8vCKGQY3lkKlxvkdFs45gOc3aYpg/SiRbiMw5pRBwEb66US88JXwbrbMNMaa\n",
              "UOqTQPyIL0MZftzOMfmmo0rGIg0jeVeL1H5BwEU/izNWTSQqoVuBLYSJKvsFoujejiNB3R9lO+Jf\n",
              "semEK7F3f6gG7EdNSMBW/oQtZTXks3Nq+uKe1q0MyB21KbaW9O6atI6TrKKaPo5nNfoeY62u88i1\n",
              "5OayjQKKLf67ZRH8HYcvGgDhF9RyUu15jyUTvbiX0k/Kw1gQxgVpBdxtAlAfZfzvYvDKVjj2wJ1x\n",
              "er2nJiIWjO20qG3SUGZRCvVrAhCjacbNpWoZWuA0Yujf+h0jeH/cAg/YHbjkFzKOaMg7Up5n9PZx\n",
              "fNKO6JkHTvCE0+s7dUHWaeKcBriuUgExGd7Su5EirUWddTfdQN53XdWYfBdV0SrbsJVhI3/6wkdv\n",
              "bcg1+5Kml3RJCdqX+s2abJ9pbImHaqaLE7tdRHKMOjQDjCnPl3kq0o0DobRECSsCBffBpMbpaEAv\n",
              "NW7BEiG78qgtWF9zwPb79koCoJXB1/jeIlQSHYylACrttk1p8vFhnG5CM2RJLOT27E1Lwx++qFX6\n",
              "sB/b7UvzegRUK8CkrfgwfkTioTkjViaug9qoo5Kw2f5EpwpOTUVkR6u338Y3fwq/xs1X3YNWBiv7\n",
              "ER3NJo/HT94q3MylCaAFssLH1BYp1Jet2aR/dJcJzG4VKzCNjeIACwNIwPuvCSgTAkNp9fdy6HUD\n",
              "e4rVQ+1URUTO660amJy1p6/CEFP5wy7TDt7W2d3NSw8suq5a4vyJWaexctU0csC8BnN6zQ/H86Qa\n",
              "2vBzhSL4I1fkyMfQR04HJG54XsRckVU3Rvw1+oHy2g3PoO4FeQjM40SH5agm/kgAbgA3Tqk/JxR+\n",
              "WzOP10u7Z7mDgENKQTKthKZ997BrdlBB6z9KsccjpY/LizxgJW1WC0cWVa98NlP5hnvA/Pl8hmTx\n",
              "pfimritWsgGUgqJifVRF2k6Y2cz62RVh/TNCuYvd8ISjsAXUhoHEfCQo1cx9aoXH/exioxRAyEwp\n",
              "P27IVb2QnpM4dNMP+ESXkTyP0QaoQ2lTHkq1XK6r0O6hDxQ3uK1TyVIL6mHYokQGPUsTM5fX4c44\n",
              "0cpuRxNledzXcN/HEPlgglRwqciDpE1zSxnamFNUget3Je5t+UZe4tY7L37Ddree8hzMaDCLyQ0R\n",
              "bAoyAQC97bjGKrGEf5AxWT4keb2TetvgHMaM+dO0iPKMo7rqzDPVfgkKuxHbr5zkEsWil6tENPB4\n",
              "Nud76ycmU5X8RQx2G0Etk9t0up6fVLMpJ0Y3taJDkS50fJtmwtGs8wORw0N4JmoaebMpvccGTQsi\n",
              "QYEi8o7Rh7Nzr+4KDmtgkpOIzw2fk0+G9uVYsUFWaxl+48NOWpxjUg9SRCklGeol7Xw5Ka/CFf15\n",
              "6gVUyUkrN0tLGUIras1yHfiN80Bfm+bmuzWhPzXP2uq1nieOCs4sOAUL9w0wwxRbYUFrfVTdDznM\n",
              "iYwZPxLL3dDfJHyOxQlNvrTc155sGlJwCRskoTg2wUVxo4px8cCEXnQD+jUPoNJky2ceHRxRI+DB\n",
              "WhEAQdsx32FMQVL7k9Xn7x8U0H+9fMzBGmg9orfcbrbBkuyHxg9wfu5s2B0ToTXClj5qY8NUYReU\n",
              "d+yHfjmdZXnMqdjsfBbZ60QLu9r2XT11Rra7ciMKkrTaIQQAYesRyGbF5JAtRWl0ExP0jTVQnAX2\n",
              "3YV3t1AeCgHIcyE5FU6XjrlIzQEqmmZvX8SuE1aL5WEQP5Lgc/Gu3YdZ6Nrncp634fxhhuDde/m9\n",
              "P/j3dgX8/43Nu5ioH04USRopoW8IhWeodPy66tf74MqMsWpqtD1/9bpMIzcuou7mRrxTTSuVjVZP\n",
              "Uo5QhHfKNERyz1K71Y4w3BNNCxMpDqeWm/bmMpVVj1jvd7zkAXYoZq69/NvNQFB24E/nG5KEmSEP\n",
              "or2xedfpTxKV1r1m66A8VvRcp6pQRqfiSqgJ+Y9TYKvYpWHubXBoAOVCFQKDQPxB7X4hrxj/rTdN\n",
              "8W7fWs6xU9PkmOqCdYZYL0rDY1pM/031djbhGaU7RDoSwAJ9dvM+ODYNZLgTqmvCuPq3iOQOh18C\n",
              "NSEAnPBWNs8TrVKZRATJ0W/iJKE56NEw+t/zl9aJWrb/YLvlFe/ypJR+sHnKpK8AAAMAnPHt0I4x\n",
              "9oj3LCOeNk/19ttZzp0k/u7YDKn7g5XXztvXD4qAs9qvwSSxLhIznRy6RR7EFe2BEigDmtoR6zek\n",
              "TKgAAAMBtkrzjivYnT0lOz6xARioLd0k6P5HynJT6ZORjb/BcYIkKUnpgCLqln/lk6s4zk60l5dr\n",
              "rbXQ+70aUy4XW5PgCAAI9fG6EcYvjCnt11phEN+zR9CSCve9jLpNhTpTmRVBV9Z+Vo1h8qHjxzEv\n",
              "kT/QEMZHIZBPqDIgxd/li8f6xhAAAZMe3QgrcsIZ7X+dNwbwxRduvR/EUYxFnSs31T1T31fizR19\n",
              "FFaDh1wXq3pz1i4qov8WItd4DFj5YGQF2lCUAB5PxuuDmqAL80hCrxMxW9eScnjoukaQBJXLkceH\n",
              "NzhGtkd/7vrcRCZbI/liYMEzlfTiWXxifYwccgFN+GNxkEnWgJV7f9ACZVKFrgk5qxUx/fVqoShF\n",
              "ITk87yDuqBC4r72R59xvbAwwipmqjsM8xKNBcjsCHdYAcPHT33PHDpnBOhZP1/jZWPqz7BLxXVBW\n",
              "U41EvuHD+LunFnUBpWBxyTYzZ3Uz5KWmOrGDJC90w01KkgwUpaxYHqWzZNwsiNvLOBrOgWaYxiPZ\n",
              "eitNo4ftFSlXkDfFBBFP+WuW1+41bwhupI0h3HC6l035zEpiAMHf/LrrGy5MaO598ik4agmMqsTq\n",
              "qeDA2vvztf2RcEXULOtRQ1vQXXGI2PNyXihn/1kYrtbOfQ6kdM3GmJ+tk3g46Ai7yoK3l8LbCl3i\n",
              "9pse4TZE9XWm2j7zhsL/+uEhHuJ+SttyjGRxN6Udp6/dFhq5kQEa7BKplBahRk2zZTISDgztK1Ut\n",
              "mULpjfSDqcTBzNyFjkC/y5kue1MdZQIqib46/VAU0xgsdY1B9nUuPxuRy7ngi86lWy4i1LnSNBFC\n",
              "bPhPi28xSa+H/7Os+hNl9IdDYRJJGeJhfskNDZQSxJJUKyugB36XxwZyyCAHK4ou5DnSesthiHnX\n",
              "lQgm6umfK7lmFw2RQYLBXvQDIrKmqVYrqWsrvLayxxdGzoE9aeOqvNlyXwrpRmYCoHFTsbxHUolR\n",
              "bbFtfshmuIZlPHkqH+hxmwYNL1ROPF275EeBJ6uKoVES+K+R6mWGIWF6WyjrucaT7XCe+DTvdp/0\n",
              "UDljSBxkxU9+hyBuk1sYG6O6djJ75klLYATZmqvOnFey8f+UsKcusR6gJZSiD1dTnJFr6iVvfbgd\n",
              "RjiVeJfTANfHmmrsUIyI5llY8ilHDpTDWrid1kTk//WO0yeuXUyOFT2Z1yM5AEmJJe26XIBtG1Ks\n",
              "YP5HfvwbX8eM6g4B4A6Qh2UsWfTvpMF/rsYp9/Y3otOUDQuQQrpH6YxTBpS4longhDzfPifMgGhv\n",
              "rTDgGAAAAwAAAwAAAwAAC1kAAAfdQZoibEF//tqmWAAV3kWBANceuKJoAA6/yvz3O8/C8DqrAz2M\n",
              "776zT7BoPu4ZGKzuH/8D8QiSMDv4rek6uBCFJ4T+HadaNVoLVrb962XLRaQUxD2HK6XHfzyTx3FL\n",
              "lZmsJZWGXzBt9sb+fExwWEhOKoBBJ7GCztSA/eec5qIIA7pLVbR2xyf/x7B3M41051ede4sIDRFW\n",
              "StEUMAvffQy2AR6jck5Nv7eEMyDskQ0i5rJikwCCj31LBpYdQjC/HP5UnD2xiTw0J2hGi6VAbWsV\n",
              "VWSDfumFyBzdV0f3tIcePk32prSLWYyPZ1Le/EzjuLdH4EW7/7v9F6cQ8PP8LMiVhMDiCQessjmt\n",
              "Cq7u+dL0z4Nt3gcaaec/ue7QtdGwao7zfeQx0NWvjgGCaMLZNln1h1f205dwTFLQLyGC37Lj686M\n",
              "68qIxX+AHEmJfpS1GrTPLAon5HiKgeH81OXeU/cmpwDbk8UtHpRv+hbUevS0JeLDfmLDWyopdxAd\n",
              "aKkw0/Kk6lrpM24pzPvQvgzh41R1tre4KH91qiaaPofrbRqn1DurGWjdC03XnT87e9JqgDzTZ5ow\n",
              "fSmzbpkzsQ9PHpTyhnN26Y9SBiOANgcjmJqNmJmKeWRx0Cs6ZxzcVA1KCclfwlzS+RsU3DJFkYid\n",
              "J9mYJn9U0waIlLQb82c5YXUDYuOHTlw+f1oMH4tVwqzJsNL/+pQvPRN7ZQwO0gOOMh34REVjwyAx\n",
              "0ncE+gqynij3PlkPpJj5ZQZbxmTXLt+wjfm7qIWDaF5uvNGBhXi05bGArOfbJLFCqL+RvbJCxq4j\n",
              "TgvUuLHakMdKW0/2GCLp9s3wsF4dBHIxuKyJt7z37AQborAFJGGJsQ8k/tzTnX6WoMK2nTssz6XZ\n",
              "uu71P4MzfpPiAi8pftaz51y47DkHaPJu/nhWgX4Q9t5bzCFeNj30F3/vcXJp4g/ak6ZC4MOvEohk\n",
              "sga20KuGbhe9dOtbbzE+ZMoBjKWklQtALBJvjHXA+I4hPE02KIJtj6ogJMt/rMPDqdmycUsNHcCT\n",
              "BlLqyqaG1ryVVUGYknOQ98CsWDs1IvExISgo/Wxc+gqcCR2VjIY1GkFk4CYDHhNoTrH7kdqS9nv1\n",
              "5or76UZx485nsaIVJwpoM15yoXOyRNF3K6OpuWdAL6GfucgCpgMjKiI/P6UkqhPzlcJGEo/LVYqs\n",
              "xgo57gyvWcJsWhtkfOgekvlEqfyoPj/8Qx0ZB1CcK+wBSUZjA4NS6jtpOVBkHyKJ3C1aIAdAplKL\n",
              "KF7pxkdzTlut6mPeT/ZXHghDHsTRSj3DGn1DbTJU+IyVHcax8xzn8UPEGecSQ3wNBRghLiNc/bVJ\n",
              "8kSNXIAAryaVZFPZcnfTadfR88yOpjuqJgzWVQzQxMGPbbgB6SFGczJI02t9QCbtHHmKphFJ8ESC\n",
              "AExJygcBu2nxY7eY/jMHmzUOrTaGpUuUaRXuEJZL6F/Ksi18HIX8hPU07QHHpfFIbvo/DU/rIJZe\n",
              "YeqfMredLILj/F51rq3O2oNNoeP64r5vFdg5keatf/Ft2SL/Zhb+p9iSJ6C2jAMnkxzh0z53xRYe\n",
              "MXTcrqdJs11MIiySe/DbbAFeLjKgsFFbuIpPffAq4KRMAacucyubBePBHcJRy7P10qnvToaAVV7q\n",
              "VKOUeujY40hcazMAHMOpLqb1Eo5a66vPOJtSFo+VF3tL3ild0/Ku6iJPJUUT8Ixl/LnNl3+1U8Uw\n",
              "kqiiZV1bpTh6y15fBVy+dkpOA0J83VyxHQGeND7I0+fYm8mloU6kIDGNuejoSV6dEmuqbQg6UwoY\n",
              "HSKDrG3DZP4iJ3LoNu/VIMlqQzZ1vm98qXFEbqsn+UXTUHhsSY62svAWqMv1Naue4ynXhoRa48dZ\n",
              "aP4SyCxYkqPRISGkeD1oHxH9kOeMbPEF3T7VpR/X27nyVNTHiy/PHePINagHZ71tIYmUiNG6486s\n",
              "/YmcyvgiVqJlA85fM4OtjBTYt7Oyv5+Dey6JPE/qRGtG//OnFwtb1tFi5jVfJ/TSWHH2v2X3n8c6\n",
              "hVqro86TYwP6igCzPZSbwOMLmxtYqXnhNHZZk4T0djGEuyUdA53ANTnuhKOAPffCJHDT8BTe1v9z\n",
              "U5HxZJOUqVczc3asCl6TeJtB5gjkJYLxq4RogyT+hWIPN0v3Pd+DO/xeA6+UdGWffRRARouMWwiO\n",
              "XuuYR3yoPGt3gQFDzhDn+WWxvNPQfspfhzuLFUOG8Ik55bLCw0lpMNp+GEo8b12OVEDCIiRuQv3D\n",
              "k7miZCxkf99mKiiACI54ol3q7XpRyG5IWTUXdgmJMurMf2fAPZvDfXWR2O5uZ6h1m0dsrUEIJWyb\n",
              "QVePqchgjueC3lmjEt7SycrzXOR+/x9BqHORsY2kUt+h9RXcH+z+RnckDTIeyhcrb9e5lzUGWxZs\n",
              "RlOYOsr2Du4FIKp44w8CVICNL+yDLBFmTrOWRmrBn2n9TYYLk4IUxJVztEwCFsReQmBvilpVT+wv\n",
              "ajACbXxYFMU6bkNZfTe5+dejE7LRTEJqkXX/hbaUG02/2F6BLqzJ4kwuQ981ZcTcIIG+WsVVbofF\n",
              "iiZc5uR9nr0neneKwV4JSl+me+2CMCD8Eg1ll+uFnLzBGXZ6tOv8FNmc3MWP9X2rsPs/mZQMb54F\n",
              "tGP5UZrOiRCogrfNMUg12BRVXbI6BpRfOReFCkqffiOAAASt4CvgAAACcAGeQXkFfwAADk83cLyZ\n",
              "QV9Bp2gAOmSYLzGu15HOa84HJsRAui+qv+XpCcxSaKJZ8DXjwNDTwQMeIZho9WF7Zbb/COJa2GgP\n",
              "kYdS5iXtnxPnv3N2fb2JQMP1FpT3rqiLTwGc2Sxah2ksoGmvMoAEdcauuMkBnm4elnPPEsAPpoYc\n",
              "U6fKNGx2vx7G8AABhjhG0lfe+RphC8buYMjpQHCKnhOrAPY1W8fz4wxGl7ENDY/LFHGyIIUjtEUa\n",
              "D7h0JkJCln0nP7GsN6WwHgPZWGd6YbNbP3NlILFJjvGVGNEEonoztb6/5mEXPg20CXEcQ6ezB2rk\n",
              "eodr0sZeeh6zaS44W6OeEbzDc/IZ46yAlsFhgJdol6KcYHNQ45TJOMvm2tv98N//ZwqXIu1lZw1F\n",
              "Q3W0C9JwpfVL5qNjyXkOA2I9cPs/p0vd0pws7KJY/DdQB+mNc2qS5DKug88gII+bpMBTA5N4SoUZ\n",
              "PfHWBUaYkAeaWqJHZ+GK8h3LBb4kXnrCSdK+xT5IotdQHhavfzud3vIzfYGyktrg5ANvQhFVW7tS\n",
              "4ITdFrunXcL9/IenEMoli+2MWXhFang3H5lSuJkQfDPFLZ5JK7VAn9RuYwvfppVXHsZCg2AXheVt\n",
              "g5CleuPZhDjIPm4JeAfsvR5Vqq6tQ56GhgUbZBs2MmKj21Am4TYOSeaNLUpkl4RsV8vpDTF1GJYZ\n",
              "i430eJfjTPlQUj4LI6YK1YPzAg84sSCw9x0g2QJ4u6jGxns1HxLOqW/FArF/WOLJjte55e0lZZGu\n",
              "UN2YLnMiGM4+uIxb+3BABX/YDYFT68JfyR45xIrEVjK1Y0spieAr4QAABs5BmkU8IZMphBf//tqm\n",
              "WAAVwAJSpHVW0AAC95+eVTf4+9E+wJ0eudCUwDL6ci+tbo9ULe+CVsPPgDPMo5mwyXpNMCBObqqK\n",
              "vG4MLUIrPHM3Buz9pHzqLLk0i64LG51Nhx1MCaVOP4RYiA+/rTT0ftE5OwcFHzkCcytlrUnXZ1Hq\n",
              "rkwJWV2iQ4Br6iKze3U293AL3TZEWvxWiz6g35PUiIpQdpdh5XZqM4CaB3P6pvFLSTN3+yc2cit9\n",
              "H+Fs5nCQvwnYTR1fjdDK4mIPRTB2Tk825U/yWNX8fMmq76FfDrOFbfcbsQxx1GU/WQ8AbZTLgv5o\n",
              "OtfaXQICwJXr3PRu1lxlGUcMImWMvgBifwISDgKqIEFA53NYMfOE2I1cZ2aCyaAcxJWUXFVj6J/R\n",
              "xKqDeUExga+F8vOgOMohfz1nZezQFH3cPICxLVkuAQ3YNaEW24iWk7vVSQcYrNVdpx816/sjDJmR\n",
              "XK4C70bINxgiv6cIGbgqgNQBqqyVLq+D42ARoN3N2R0RDzTdUBKoF+qlAyPRXzbrU2x9NomwElJJ\n",
              "9wL6Sx+LnwlLJC4xvxbobbQxFaOGsbtkXyyQ4X1MpSrjTy5CajFKNQc2A9PWllr/7qJux87hfFRl\n",
              "i7EnYy+bRhPfMiT72B410RLM7+I1BbIblRNSg5QrCD4qXoOe/BzqgRH1wvyAurS13+jZTICv0equ\n",
              "mscM8m3JR4nb6OY7EWjl2t3lkaVaPi8bMA75EZ1VhZmztMjNkA431nMnk6JfrW1MPfpOlNzcMy3n\n",
              "dG2Z67f2baPN4GBO9u1kuCrzCMP8luK3MTgftL55bUEb6delMq10x0P2uCxA7KPpGYOSRBHTKwdD\n",
              "MNfjGMxnz91CkVmr5eLf22rFokWhySqo+y/+xlDy+bkIOsVAxe4pWDd1fB6/fZjVJZKMcKj2WZQ7\n",
              "WUd9zvHuVOql5Dgy+Bp9ORPCNRXpRnIliPKWgRaa5j5weGHiKgqmL+AQR4jNHBVw1DUgq29ajfYo\n",
              "tJoewYm/Q9OlESOYNHUtjlyQsthDFsk90iqhGPbNGHUdxHMJO1sB8X1IOtOgQ4h7QdRqFR/336cB\n",
              "w9zIMrlw8pHb9XR3O0xlYv6SO7kWLoIc1ytnU6YZwFrzSE02dTa9Qr+xBmHFRe79stP9U6AQ8oaC\n",
              "hmq66SXjhZiX1MfIupmbmlnEc+RG9YWDnGgbidbxHCxqMx5sViMc9qtYvdoGPwS5ylxx8EeXaIti\n",
              "fXB0LeVehTZOycqJVtEgPrucicT+ZtLb7vqOHaviiKNiO7rrzxDU4i0uJzWWxr+S2N/GXORFOOo0\n",
              "eATPnznFXZxcgZkX8pp8ghL7WuBlgNfXBDB78cIPGoyQAwEwhFqmRK2qYRJi75j1BcsPzg+nliPq\n",
              "G22B3nbSbxb+O94UEiieuTG05p1q19FdnvFqxU/CBB1JZGpDRfX22dBcLqTSNBobm6kfjQusCFq1\n",
              "9lQst/gL3D9JQBy44yzDiwHym7LC7I3uNb2HXda1War63MbGOmS7xAhWTCzCWcT+DScPd37sGHZu\n",
              "eg+jvqksZutjWkGOhDbQk66twI53morZ5dq3ZEY+cXXGMyuoQQW61x8TY1lldeJVDonqtMsIqwsx\n",
              "KOVcSY40xyczgclvdL3IjjC6QLnrxrvkdJEX7/OBMEMWyBuWKtb46mY0O177bfkKMyDQk62XyAp+\n",
              "g1zg9PogA/Fsq2b5mEmM6XgP/tMoHMR3U8Bhiy9ugsXZyfwVTrWdNPS3LQjjVe2Y2m5rNMHRSbm2\n",
              "l9ds9mMK2g18LDdhg4mSZPffct4Chv9tOQfexBYE9EPFss/HFyzMbh/WeLXlw9Mk6pbyJ5e9zbK1\n",
              "Js1EVhepUKUhe7kL/Bk/cuYcI0ILynjXGvRTnl7rw1v4SX+87QRCuRdtjPV4pp2o4Gd1uy8emJCY\n",
              "PWCYFHASkbxE1cqIBIGTNaXmcBR90Kw3eDk7NqEtWPWIs5TK0ZxZmMtk1ZCS+sGAPtf8+80ufPR6\n",
              "7o6+c6CQTyCnHhNdl0iddqDXjZuKneMGP+sYKDbfoN5F6ve+ttpOAJ6fKo/vEVSyylw5mbc9b2p/\n",
              "8PyDQw7pYV9TSnyNSqTB6pGYlW4jF/hOgUkZ3LGGr/Tgy/P6ruSHeEh+Jbu5EriK6xsyG/rfIvnr\n",
              "l3YeUtY3J1GjZXNmH3nz5l54VTEVbnF8/mk8iqI8YMEgz6bHwNP5ryAuGd6AOIYkD2N3L/f3pcMn\n",
              "YGfMkVb+vr0lYT3g/79cwoSr0tlUDdDfHQW00jGwfzD4rpZpKowsrVx2VIuOKOxMIr7pScztd5xK\n",
              "q9jCngIEy+Rhqd2Tm7pbmCAOmAAAAQJBnmNqU8FfAAAOTwh9ax96ADXNJWqPovOTb2G0BRtQ5s1c\n",
              "gNQuSxY9wBtLOYtZZ+V60Vq4tpdFXbN3U6rIQlR9cGFdM086T1RRxWLz7WrYLs66sZD1vo2VxLrl\n",
              "0U9ZJkam4SuhSi5HvSh0Yu0eGgOdIZUI9EvCmiwTft3V/5Xfprc5F7UIJvFBVsC8DJpboJkljp9k\n",
              "mXNr625p1g6yOpsbk6FbpBzST8dC9ZhZIfvw8P3ZEjyV8hsu6mzaxTtd5L8AMyC6ieQoubDuhuW1\n",
              "Ion1Knff8Pd0NAC+9AKC+Mp7+WHuYzuNWIvg9zafYDyO26EoYIE8y8NSaqfnq0VSJpbJAb8AAADv\n",
              "AZ6EakFfAAAOWk0SSWUl4mp6gA5t0HfJpJnok16fkn7ryUnu1eGJh+qYjMDMbKiOVNpHaDk96UQ2\n",
              "NZBKVWJT+6uUmXejFq1K1acOrv8cLrlLJTdt2jwb2kGjKOieYoIJQtrnTiyQKy1OZWJSxO+6VHHL\n",
              "W8+/J9xMZjcAO4TVppBtHlJaQVdvdfQfo8exIPpH00qKGxVEmD/X/fgKTQIaIlkSHafkVaE/T0Z4\n",
              "CAF9XQclYpHA2HzSdxPMc0xqHVitIO+X2zW1EmJSgv/ygGtaAzqe4RDx5RMPn+6K9majihz1CiZV\n",
              "Za7X5j1hlz8AE3EAAAPmQZqJSahBaJlMCC3//talUAAV1dZAAAOvdd4RS7wnqNShx6wnchNecQ1y\n",
              "PCxdIDhjYss2ipzGHaLs6XUmlFA9iAynWMg/z6FX0hqHXsToD/Nwosua2eNG6kVmlR3Pkv0B8tgX\n",
              "gXoFbxNbIBHfOVOd1OOelAOD7YBBlOelzSM5iGw+uQ5pUV4NoGFQmyjV4ykC/bFE3bHkBEy9yj/P\n",
              "SZbbYw/jlHBltyTLTwLX7+JQSmJz5RDr1dqvDF31btnfWsHQf/3cjLYppOVXnpbmORe/jTBWK6SQ\n",
              "eoKDZwdVfFnYiOuwx2LzO6jsu/lCJX/ESPZhCRs68vJe47DXKQdVv02qotvzHrdKcnMIIrk8OiHj\n",
              "RawBdNBv29Qtq4CSboBI2TlorK9muHlVNRlsXIQix7ZqVPScVFimXHeNzrNblFnQlX7FwtDBxCxN\n",
              "M8YqBxy4meanNLLiQpyrMkzrce97FpoMTERiVwra7HYrTC5X3P3qmwgI2yXBFFq2LynbepU9zeEc\n",
              "6xt9Klu87fZAuMQOLMflktcWKg0rhSobqmJSL4Qh3UlIvDsJQi5Ptoo0zFLcwg4hYsmS0mr7H1cU\n",
              "uvYPgQ/zsgMl+15AaC8elsBan2G9ggxgPAq+z7hq+xG/fR8DOlj+jtqdEYzWlezoATUYS0691hrq\n",
              "BRp+bmwlzVcw7H+puXZ1DUhxDPoOdarlYimtnWYzuln4ubPireTtnY3s+M98tVnD0/UNzbnxtYAh\n",
              "8hwfLfkDoeWVGqh6NmDC13x2XRcZfO/yLa+ml8HF7jdmbwBL3qQYJUQTBobx1x2xJohD+FEjgCXp\n",
              "0s4sbfT3GmsJ+AiuiCKhDcaSqqJDdFephxG5wWlR5xZ0DYdRt9hKWEc8SP1wRsCBwZylV+ea4r0J\n",
              "d7RPgKAEqhWO76Y+oQ9I/vuKx39kpyCGPjQWpf6tBZXPa/oRdQg5CTvt/IcRjJGu6tElt9wXMAx7\n",
              "/Bwz+mXS1K2+z4GKLEC+FEGeisjDRVP23NgmYKO722Jp7ces8x2Mwf2dck+EsgZugc/LlrlEHtak\n",
              "YGZEfgcBpxoUp8jzeZeThQJVP9IIe5Bc4IjPqnhJsgWVyVPwFvzkHJeapGAVMFoHC1V+uNHuVOzu\n",
              "ZnzyfwkU3TvwS/z4m6fIfq1cgptz4fploOuYvCCKzDRbCzLFuo8Z8gZyei+mHDTM0X67E6OERJDg\n",
              "3z0Oz6YdGZNCoqW3uVD7Ao+tpadqoTXF1RB+bIBoT+YA6nzP7ZwfnkBFLZ3l8HO3zYh0v6IgnVgH\n",
              "FdMf6GJtnDKI6Xiu4fzSbRibjOs9Qr/4mmb4dG1dd6SSXtT3gaPbxJF0DpkAAAD9QZ6nRREsFv8A\n",
              "AAlLiFtP1xoeH4P0ACoWUQoJUVx6QDxjuMzLR8IPwsR4bPc143bzS7zDO+S6Yqh6m2pjh//3DJVp\n",
              "yr5nvgXRssuGt9c6exnSSAJXOqKbq3vMsEHVfp+qgl5ErmFmGpd2VPZDiI7WBLLk/65mr/9T+tLw\n",
              "QNVU3awp5jsJHQisqajBFaek3CjEx4UZyTmVv/R24nr54i92AIM2S7dPV8x/jvinPC5eYIlSgWAT\n",
              "viYd5nmwBYm06HcAQ+iZvHQXPPeql41y+HErz9e19GxhO3uBME7wrYPfR+EoVzJTB7FRXa4oGdQE\n",
              "H6XpUX0J8o6gzLfJFKAZUQAAAOABnsZ0QV8AAA5mAGuGAA69qpHUKEJax8woZf/B/bFht3dF6uwJ\n",
              "H2awgdXPYVhEkeyH/9LCqASbuv2kFYz9mYv/fD/eMXz2o58uj6UbBlF3jax9SVthL4DPrTgyuDhG\n",
              "lTVEQFJzDnL4oBxVNLBTAzu7gkcbgh+EoXYkbijC/dwJCo5cd4fMJpLWdfzQJV0eRFC4m/rz6tc0\n",
              "gx8pElrdjSgQW/Dspwg0qKXFS8iFFWMKtBF2lE7X3ZEZxcgsNinyzTR+WAzEWyqaU4V6QW+/6AdA\n",
              "RrP+bf/2jYKWpeik4RABJwAAANkBnshqQV8AAA5ImWOKaPF7xU5ABeBopa/HXZfVwO/85LnGDx88\n",
              "XIgcLx1hi4UfVqB87mDvQIbQJY2B3vJ44pDQdZUBkR0bm3h3XeNRplvVyTx+CV74upRU+O4RaRLC\n",
              "j1NN+vr8G93aTQbPbWRsvxekwYow7y2ivyYuUQ0T894soaT4IYO+F4EyqDJfvf6RSTcmbufiIG99\n",
              "Tv489TxCRVoZFxJaLugCAJ+L4fGlH42V3/os+u//X/96C0pW2ICsaaANG0svE1NlpSz0s759yGMP\n",
              "MvtlGVEJ+QFtAAABg0GaykmoQWyZTAgr//7WpVAAGA2IJ1iWijX8S+EirACEWNoA/oq0nKz/g6vg\n",
              "pUqYJLe3DfBejfS5wY239PL5Nble/x0Nhv2oDz0krG3F5J8DSFXrOga9EvYfwuo32VWdF6L+nVDA\n",
              "NkLJy4Bjj/BWKN4Dp6SFEp/Cpsk3W8vCQkS4QMs1uhhwGwLGDbjkEUK/iGArio7b1CsFjkkv8+CS\n",
              "Boa/ShTGMDkgFVw1K56TYGl/ktJi8qF/l2m0sDhsAnGg6Vt2Qo4X12nf1tAqn7g7sJXslgozkUaB\n",
              "vcfZfHVOPAfCT1+2SO8Y6gAbiCN4yWZWHYxYckb5o7QlzI4XiO8bQGbMf2ufTnOS+5V8EGahatEH\n",
              "wdbfHP/F3fWWsTpW2Xc5EKxmU5cPNghn0YLl/xiVt48o9zxFMRBau84XudhWMYhoUf25MVIl2i9a\n",
              "CrsSwoF4shCrYgWTph4HBXeYp+HfyAM9apVmOj/en0cSK/JL1bCt0tzBAMvKAnh7YLy/Agab/cA0\n",
              "IQAAA6ttb292AAAAbG12aGQAAAAAAAAAAAAAAAAAAAPoAAAq+AABAAABAAAAAAAAAAAAAAAAAQAA\n",
              "AAAAAAAAAAAAAAAAAAEAAAAAAAAAAAAAAAAAAEAAAAAAAAAAAAAAAAAAAAAAAAAAAAAAAAAAAAAA\n",
              "AAACAAAC1XRyYWsAAABcdGtoZAAAAAMAAAAAAAAAAAAAAAEAAAAAAAAq+AAAAAAAAAAAAAAAAAAA\n",
              "AAAAAQAAAAAAAAAAAAAAAAAAAAEAAAAAAAAAAAAAAAAAAEAAAAAC0AAAAtAAAAAAACRlZHRzAAAA\n",
              "HGVsc3QAAAAAAAAAAQAAKvgAAIAAAAEAAAAAAk1tZGlhAAAAIG1kaGQAAAAAAAAAAAAAAAAAAEAA\n",
              "AALAAFXEAAAAAAAtaGRscgAAAAAAAAAAdmlkZQAAAAAAAAAAAAAAAFZpZGVvSGFuZGxlcgAAAAH4\n",
              "bWluZgAAABR2bWhkAAAAAQAAAAAAAAAAAAAAJGRpbmYAAAAcZHJlZgAAAAAAAAABAAAADHVybCAA\n",
              "AAABAAABuHN0YmwAAAC0c3RzZAAAAAAAAAABAAAApGF2YzEAAAAAAAAAAQAAAAAAAAAAAAAAAAAA\n",
              "AAAC0ALQAEgAAABIAAAAAAAAAAEAAAAAAAAAAAAAAAAAAAAAAAAAAAAAAAAAAAAAAAAAAAAY//8A\n",
              "AAAyYXZjQwFkAB//4QAZZ2QAH6zZQLQW6EAAAAMAQAAAAwCDxgxlgAEABmjr48siwAAAABx1dWlk\n",
              "a2hA8l8kT8W6OaUbzwMj8wAAAAAAAAAYc3R0cwAAAAAAAAABAAAACwAAQAAAAAAUc3RzcwAAAAAA\n",
              "AAABAAAAAQAAAGBjdHRzAAAAAAAAAAoAAAABAACAAAAAAAEAAMAAAAAAAQAAQAAAAAABAAEAAAAA\n",
              "AAIAAEAAAAAAAQABQAAAAAABAACAAAAAAAEAAAAAAAAAAQAAQAAAAAABAACAAAAAABxzdHNjAAAA\n",
              "AAAAAAEAAAABAAAACwAAAAEAAABAc3RzegAAAAAAAAAAAAAACwAAF38AAAfhAAACdAAABtIAAAEG\n",
              "AAAA8wAAA+oAAAEBAAAA5AAAAN0AAAGHAAAAFHN0Y28AAAAAAAAAAQAAACwAAABidWR0YQAAAFpt\n",
              "ZXRhAAAAAAAAACFoZGxyAAAAAAAAAABtZGlyYXBwbAAAAAAAAAAAAAAAAC1pbHN0AAAAJal0b28A\n",
              "AAAdZGF0YQAAAAEAAAAATGF2ZjU3LjgzLjEwMA==\n",
              "\">\n",
              "  Your browser does not support the video tag.\n",
              "</video>"
            ],
            "text/plain": [
              "<IPython.core.display.HTML object>"
            ]
          },
          "metadata": {},
          "execution_count": 71
        }
      ]
    },
    {
      "cell_type": "markdown",
      "source": [
        "# Exercise \n",
        "1. plot the graph of every node across iteration. You should have 5 graphs, which each graph represent one node. \n",
        "2. at which iteration, does the solution converge (meaning reach steady state)? \n",
        "\n"
      ],
      "metadata": {
        "id": "zwFp0JmxXqX9"
      }
    },
    {
      "cell_type": "code",
      "source": [
        "# plot your graph here "
      ],
      "metadata": {
        "id": "Q8NALaq2f4Eq"
      },
      "execution_count": null,
      "outputs": []
    },
    {
      "cell_type": "code",
      "source": [
        "#@title At what iteration the solution converge? \n",
        "Answer =\"\" #@param {type :'string'}"
      ],
      "metadata": {
        "id": "PzVj-M7VpJTB",
        "cellView": "form"
      },
      "execution_count": null,
      "outputs": []
    },
    {
      "cell_type": "markdown",
      "source": [
        "# Section 3: Node Classification with Graph Neural Networks\n",
        "\n",
        "Here, we are given the ground-truth labels of only a small subset of nodes, and want to infer the labels for all the remaining nodes (*transductive learning*).\n",
        "\n",
        "To demonstrate, we make use of the `Cora` dataset, which is a **citation network** where nodes represent documents.\n",
        "Each node is described by a 1433-dimensional bag-of-words feature vector.\n",
        "Two documents are connected if there exists a citation link between them.\n",
        "The task is to infer the category of each document (7 in total).\n",
        "\n",
        "This dataset was first introduced by [Yang et al. (2016)](https://arxiv.org/abs/1603.08861) as one of the datasets of the `Planetoid` benchmark suite.\n",
        "We again can make use [PyTorch Geometric](https://github.com/rusty1s/pytorch_geometric) for an easy access to this dataset via [`torch_geometric.datasets.Planetoid`](https://pytorch-geometric.readthedocs.io/en/latest/modules/datasets.html#torch_geometric.datasets.Planetoid):"
      ],
      "metadata": {
        "id": "w5FW1pImsd_n"
      }
    },
    {
      "cell_type": "code",
      "source": [
        "# Install required packages.\n",
        "!pip install -q torch-scatter -f https://data.pyg.org/whl/torch-1.10.0+cu113.html\n",
        "!pip install -q torch-sparse -f https://data.pyg.org/whl/torch-1.10.0+cu113.html\n",
        "!pip install -q git+https://github.com/pyg-team/pytorch_geometric.git\n",
        "\n",
        "# Helper function for visualization.\n",
        "%matplotlib inline\n",
        "import matplotlib.pyplot as plt\n",
        "from sklearn.manifold import TSNE\n",
        "\n",
        "def visualize(h, color):\n",
        "    z = TSNE(n_components=2).fit_transform(h.detach().cpu().numpy())\n",
        "\n",
        "    plt.figure(figsize=(10,10))\n",
        "    plt.xticks([])\n",
        "    plt.yticks([])\n",
        "\n",
        "    plt.scatter(z[:, 0], z[:, 1], s=70, c=color, cmap=\"Set2\")\n",
        "    plt.show()"
      ],
      "metadata": {
        "colab": {
          "base_uri": "https://localhost:8080/"
        },
        "id": "9hKqLzmmsqRo",
        "outputId": "73ff2063-27df-4c31-d563-64baed79f775"
      },
      "execution_count": 74,
      "outputs": [
        {
          "output_type": "stream",
          "name": "stdout",
          "text": [
            "\u001b[K     |████████████████████████████████| 7.9 MB 8.4 MB/s \n",
            "\u001b[K     |████████████████████████████████| 3.5 MB 9.0 MB/s \n",
            "\u001b[K     |████████████████████████████████| 482 kB 7.4 MB/s \n",
            "\u001b[K     |████████████████████████████████| 41 kB 458 kB/s \n",
            "\u001b[?25h  Building wheel for torch-geometric (setup.py) ... \u001b[?25l\u001b[?25hdone\n"
          ]
        }
      ]
    },
    {
      "cell_type": "code",
      "source": [
        "from torch_geometric.datasets import Planetoid\n",
        "from torch_geometric.transforms import NormalizeFeatures\n",
        "\n",
        "dataset = Planetoid(root='data/Planetoid', name='Cora', transform=NormalizeFeatures())\n",
        "\n",
        "print()\n",
        "print(f'Dataset: {dataset}:')\n",
        "print('======================')\n",
        "print(f'Number of graphs: {len(dataset)}')\n",
        "print(f'Number of features: {dataset.num_features}')\n",
        "print(f'Number of classes: {dataset.num_classes}')\n",
        "\n",
        "data = dataset[0]  # Get the first graph object.\n",
        "\n",
        "print()\n",
        "print(data)\n",
        "print('===========================================================================================================')\n",
        "\n",
        "# Gather some statistics about the graph.\n",
        "print(f'Number of nodes: {data.num_nodes}')\n",
        "print(f'Number of edges: {data.num_edges}')\n",
        "print(f'Average node degree: {data.num_edges / data.num_nodes:.2f}')\n",
        "print(f'Number of training nodes: {data.train_mask.sum()}')\n",
        "print(f'Training node label rate: {int(data.train_mask.sum()) / data.num_nodes:.2f}')\n",
        "print(f'Has isolated nodes: {data.has_isolated_nodes()}')\n",
        "print(f'Has self-loops: {data.has_self_loops()}')\n",
        "print(f'Is undirected: {data.is_undirected()}')"
      ],
      "metadata": {
        "colab": {
          "base_uri": "https://localhost:8080/"
        },
        "id": "pucH4B9_s5T6",
        "outputId": "01f610d6-db35-4212-f4fa-474978bf25a3"
      },
      "execution_count": 75,
      "outputs": [
        {
          "output_type": "stream",
          "name": "stderr",
          "text": [
            "Downloading https://github.com/kimiyoung/planetoid/raw/master/data/ind.cora.x\n",
            "Downloading https://github.com/kimiyoung/planetoid/raw/master/data/ind.cora.tx\n",
            "Downloading https://github.com/kimiyoung/planetoid/raw/master/data/ind.cora.allx\n",
            "Downloading https://github.com/kimiyoung/planetoid/raw/master/data/ind.cora.y\n",
            "Downloading https://github.com/kimiyoung/planetoid/raw/master/data/ind.cora.ty\n",
            "Downloading https://github.com/kimiyoung/planetoid/raw/master/data/ind.cora.ally\n",
            "Downloading https://github.com/kimiyoung/planetoid/raw/master/data/ind.cora.graph\n",
            "Downloading https://github.com/kimiyoung/planetoid/raw/master/data/ind.cora.test.index\n",
            "Processing...\n"
          ]
        },
        {
          "output_type": "stream",
          "name": "stdout",
          "text": [
            "\n",
            "Dataset: Cora():\n",
            "======================\n",
            "Number of graphs: 1\n",
            "Number of features: 1433\n",
            "Number of classes: 7\n",
            "\n",
            "Data(x=[2708, 1433], edge_index=[2, 10556], y=[2708], train_mask=[2708], val_mask=[2708], test_mask=[2708])\n",
            "===========================================================================================================\n",
            "Number of nodes: 2708\n",
            "Number of edges: 10556\n",
            "Average node degree: 3.90\n",
            "Number of training nodes: 140\n",
            "Training node label rate: 0.05\n",
            "Has isolated nodes: False\n",
            "Has self-loops: False\n",
            "Is undirected: True\n"
          ]
        },
        {
          "output_type": "stream",
          "name": "stderr",
          "text": [
            "Done!\n"
          ]
        }
      ]
    },
    {
      "cell_type": "markdown",
      "source": [
        "We can see that the `Cora` network holds 2,708 nodes and 10,556 edges, resulting in an average node degree of 3.9.\n",
        "For training this dataset, we are given the ground-truth categories of 140 nodes (20 for each class).\n",
        "This results in a training node label rate of only 5%.\n",
        "\n",
        "We make use of **[data transformations](https://pytorch-geometric.readthedocs.io/en/latest/notes/introduction.html#data-transforms) via `transform=NormalizeFeatures()`**.\n",
        "Transforms can be used to modify your input data before inputting them into a neural network, *e.g.*, for normalization or data augmentation.\n",
        "Here, we [row-normalize](https://pytorch-geometric.readthedocs.io/en/latest/modules/transforms.html#torch_geometric.transforms.NormalizeFeatures) the bag-of-words input feature vectors.\n",
        "\n",
        "We can further see that this network is undirected, and that there exists no isolated nodes (each document has at least one citation)."
      ],
      "metadata": {
        "id": "T6PHjtYLtmlQ"
      }
    },
    {
      "cell_type": "markdown",
      "source": [
        "## Training a Multi-layer Perception Network (MLP)\n",
        "\n",
        "In theory, we should be able to infer the category of a document solely based on its content, *i.e.* its bag-of-words feature representation, without taking any relational information into account.\n",
        "\n",
        "Let's verify that by constructing a simple MLP that solely operates on input node features (using shared weights across all nodes):"
      ],
      "metadata": {
        "id": "ZZ-IRxe5uEYx"
      }
    },
    {
      "cell_type": "code",
      "source": [
        "import torch\n",
        "from torch.nn import Linear\n",
        "import torch.nn.functional as F\n",
        "\n",
        "\n",
        "class MLP(torch.nn.Module):\n",
        "    def __init__(self, hidden_channels):\n",
        "        super().__init__()\n",
        "        torch.manual_seed(12345)\n",
        "        self.lin1 = Linear(dataset.num_features, hidden_channels)\n",
        "        self.lin2 = Linear(hidden_channels, dataset.num_classes)\n",
        "\n",
        "    def forward(self, x):\n",
        "        x = self.lin1(x)\n",
        "        x = x.relu()\n",
        "        x = F.dropout(x, p=0.5, training=self.training)\n",
        "        x = self.lin2(x)\n",
        "        return x\n",
        "\n",
        "model = MLP(hidden_channels=16)\n",
        "print(model)"
      ],
      "metadata": {
        "colab": {
          "base_uri": "https://localhost:8080/"
        },
        "id": "hkH0DpGUuDuR",
        "outputId": "f0d42b56-0bad-42dc-e5bb-1761eb780499"
      },
      "execution_count": 86,
      "outputs": [
        {
          "output_type": "stream",
          "name": "stdout",
          "text": [
            "MLP(\n",
            "  (lin1): Linear(in_features=1433, out_features=16, bias=True)\n",
            "  (lin2): Linear(in_features=16, out_features=7, bias=True)\n",
            ")\n"
          ]
        }
      ]
    },
    {
      "cell_type": "code",
      "source": [
        "from IPython.display import Javascript  # Restrict height of output cell.\n",
        "display(Javascript('''google.colab.output.setIframeHeight(0, true, {maxHeight: 300})'''))\n",
        "\n",
        "model = MLP(hidden_channels=16)\n",
        "criterion = torch.nn.CrossEntropyLoss()  # Define loss criterion.\n",
        "optimizer = torch.optim.Adam(model.parameters(), lr=0.01, weight_decay=5e-4)  # Define optimizer.\n",
        "\n",
        "def train():\n",
        "      model.train()\n",
        "      optimizer.zero_grad()  # Clear gradients.\n",
        "      out = model(data.x)  # Perform a single forward pass.\n",
        "      loss = criterion(out[data.train_mask], data.y[data.train_mask])  # Compute the loss solely based on the training nodes.\n",
        "      loss.backward()  # Derive gradients.\n",
        "      optimizer.step()  # Update parameters based on gradients.\n",
        "      return loss\n",
        "\n",
        "def test():\n",
        "      model.eval()\n",
        "      out = model(data.x)\n",
        "      pred = out.argmax(dim=1)  # Use the class with highest probability.\n",
        "      test_correct = pred[data.test_mask] == data.y[data.test_mask]  # Check against ground-truth labels.\n",
        "      test_acc = int(test_correct.sum()) / int(data.test_mask.sum())  # Derive ratio of correct predictions.\n",
        "      return test_acc\n",
        "\n",
        "for epoch in range(1, 201):\n",
        "    loss = train()\n",
        "    print(f'Epoch: {epoch:03d}, Loss: {loss:.4f}')"
      ],
      "metadata": {
        "colab": {
          "base_uri": "https://localhost:8080/",
          "height": 300
        },
        "id": "a7x3uaTwuL9Z",
        "outputId": "bc36f9f3-856c-458d-ddd5-79ac5b86a183"
      },
      "execution_count": 87,
      "outputs": [
        {
          "output_type": "display_data",
          "data": {
            "application/javascript": [
              "google.colab.output.setIframeHeight(0, true, {maxHeight: 300})"
            ],
            "text/plain": [
              "<IPython.core.display.Javascript object>"
            ]
          },
          "metadata": {}
        },
        {
          "output_type": "stream",
          "name": "stdout",
          "text": [
            "Epoch: 001, Loss: 1.9615\n",
            "Epoch: 002, Loss: 1.9557\n",
            "Epoch: 003, Loss: 1.9505\n",
            "Epoch: 004, Loss: 1.9423\n",
            "Epoch: 005, Loss: 1.9327\n",
            "Epoch: 006, Loss: 1.9279\n",
            "Epoch: 007, Loss: 1.9144\n",
            "Epoch: 008, Loss: 1.9087\n",
            "Epoch: 009, Loss: 1.9023\n",
            "Epoch: 010, Loss: 1.8893\n",
            "Epoch: 011, Loss: 1.8776\n",
            "Epoch: 012, Loss: 1.8594\n",
            "Epoch: 013, Loss: 1.8457\n",
            "Epoch: 014, Loss: 1.8365\n",
            "Epoch: 015, Loss: 1.8280\n",
            "Epoch: 016, Loss: 1.7965\n",
            "Epoch: 017, Loss: 1.7984\n",
            "Epoch: 018, Loss: 1.7832\n",
            "Epoch: 019, Loss: 1.7495\n",
            "Epoch: 020, Loss: 1.7441\n",
            "Epoch: 021, Loss: 1.7188\n",
            "Epoch: 022, Loss: 1.7124\n",
            "Epoch: 023, Loss: 1.6785\n",
            "Epoch: 024, Loss: 1.6660\n",
            "Epoch: 025, Loss: 1.6119\n",
            "Epoch: 026, Loss: 1.6236\n",
            "Epoch: 027, Loss: 1.5827\n",
            "Epoch: 028, Loss: 1.5784\n",
            "Epoch: 029, Loss: 1.5524\n",
            "Epoch: 030, Loss: 1.5020\n",
            "Epoch: 031, Loss: 1.5065\n",
            "Epoch: 032, Loss: 1.4742\n",
            "Epoch: 033, Loss: 1.4581\n",
            "Epoch: 034, Loss: 1.4246\n",
            "Epoch: 035, Loss: 1.4131\n",
            "Epoch: 036, Loss: 1.4112\n",
            "Epoch: 037, Loss: 1.3923\n",
            "Epoch: 038, Loss: 1.3055\n",
            "Epoch: 039, Loss: 1.2982\n",
            "Epoch: 040, Loss: 1.2543\n",
            "Epoch: 041, Loss: 1.2244\n",
            "Epoch: 042, Loss: 1.2331\n",
            "Epoch: 043, Loss: 1.1984\n",
            "Epoch: 044, Loss: 1.1796\n",
            "Epoch: 045, Loss: 1.1093\n",
            "Epoch: 046, Loss: 1.1284\n",
            "Epoch: 047, Loss: 1.1229\n",
            "Epoch: 048, Loss: 1.0383\n",
            "Epoch: 049, Loss: 1.0439\n",
            "Epoch: 050, Loss: 1.0563\n",
            "Epoch: 051, Loss: 0.9893\n",
            "Epoch: 052, Loss: 1.0508\n",
            "Epoch: 053, Loss: 0.9343\n",
            "Epoch: 054, Loss: 0.9639\n",
            "Epoch: 055, Loss: 0.8929\n",
            "Epoch: 056, Loss: 0.8705\n",
            "Epoch: 057, Loss: 0.9176\n",
            "Epoch: 058, Loss: 0.9239\n",
            "Epoch: 059, Loss: 0.8641\n",
            "Epoch: 060, Loss: 0.8578\n",
            "Epoch: 061, Loss: 0.7908\n",
            "Epoch: 062, Loss: 0.7856\n",
            "Epoch: 063, Loss: 0.7683\n",
            "Epoch: 064, Loss: 0.7816\n",
            "Epoch: 065, Loss: 0.7356\n",
            "Epoch: 066, Loss: 0.6951\n",
            "Epoch: 067, Loss: 0.7300\n",
            "Epoch: 068, Loss: 0.6939\n",
            "Epoch: 069, Loss: 0.7550\n",
            "Epoch: 070, Loss: 0.6864\n",
            "Epoch: 071, Loss: 0.7094\n",
            "Epoch: 072, Loss: 0.7238\n",
            "Epoch: 073, Loss: 0.7150\n",
            "Epoch: 074, Loss: 0.6191\n",
            "Epoch: 075, Loss: 0.6770\n",
            "Epoch: 076, Loss: 0.6487\n",
            "Epoch: 077, Loss: 0.6258\n",
            "Epoch: 078, Loss: 0.5821\n",
            "Epoch: 079, Loss: 0.5637\n",
            "Epoch: 080, Loss: 0.6368\n",
            "Epoch: 081, Loss: 0.6333\n",
            "Epoch: 082, Loss: 0.6434\n",
            "Epoch: 083, Loss: 0.5974\n",
            "Epoch: 084, Loss: 0.6176\n",
            "Epoch: 085, Loss: 0.5972\n",
            "Epoch: 086, Loss: 0.4690\n",
            "Epoch: 087, Loss: 0.6362\n",
            "Epoch: 088, Loss: 0.6118\n",
            "Epoch: 089, Loss: 0.5248\n",
            "Epoch: 090, Loss: 0.5520\n",
            "Epoch: 091, Loss: 0.6130\n",
            "Epoch: 092, Loss: 0.5361\n",
            "Epoch: 093, Loss: 0.5594\n",
            "Epoch: 094, Loss: 0.5049\n",
            "Epoch: 095, Loss: 0.5043\n",
            "Epoch: 096, Loss: 0.5235\n",
            "Epoch: 097, Loss: 0.5451\n",
            "Epoch: 098, Loss: 0.5329\n",
            "Epoch: 099, Loss: 0.5008\n",
            "Epoch: 100, Loss: 0.5350\n",
            "Epoch: 101, Loss: 0.5343\n",
            "Epoch: 102, Loss: 0.5138\n",
            "Epoch: 103, Loss: 0.5377\n",
            "Epoch: 104, Loss: 0.5353\n",
            "Epoch: 105, Loss: 0.5176\n",
            "Epoch: 106, Loss: 0.5229\n",
            "Epoch: 107, Loss: 0.4558\n",
            "Epoch: 108, Loss: 0.4883\n",
            "Epoch: 109, Loss: 0.4659\n",
            "Epoch: 110, Loss: 0.4908\n",
            "Epoch: 111, Loss: 0.4966\n",
            "Epoch: 112, Loss: 0.4725\n",
            "Epoch: 113, Loss: 0.4787\n",
            "Epoch: 114, Loss: 0.4390\n",
            "Epoch: 115, Loss: 0.4199\n",
            "Epoch: 116, Loss: 0.4810\n",
            "Epoch: 117, Loss: 0.4484\n",
            "Epoch: 118, Loss: 0.5080\n",
            "Epoch: 119, Loss: 0.4241\n",
            "Epoch: 120, Loss: 0.4745\n",
            "Epoch: 121, Loss: 0.4651\n",
            "Epoch: 122, Loss: 0.4652\n",
            "Epoch: 123, Loss: 0.5580\n",
            "Epoch: 124, Loss: 0.4861\n",
            "Epoch: 125, Loss: 0.4405\n",
            "Epoch: 126, Loss: 0.4292\n",
            "Epoch: 127, Loss: 0.4409\n",
            "Epoch: 128, Loss: 0.3575\n",
            "Epoch: 129, Loss: 0.4468\n",
            "Epoch: 130, Loss: 0.4603\n",
            "Epoch: 131, Loss: 0.4108\n",
            "Epoch: 132, Loss: 0.4601\n",
            "Epoch: 133, Loss: 0.4258\n",
            "Epoch: 134, Loss: 0.3852\n",
            "Epoch: 135, Loss: 0.4028\n",
            "Epoch: 136, Loss: 0.4245\n",
            "Epoch: 137, Loss: 0.4300\n",
            "Epoch: 138, Loss: 0.4693\n",
            "Epoch: 139, Loss: 0.4314\n",
            "Epoch: 140, Loss: 0.4031\n",
            "Epoch: 141, Loss: 0.4290\n",
            "Epoch: 142, Loss: 0.4110\n",
            "Epoch: 143, Loss: 0.3863\n",
            "Epoch: 144, Loss: 0.4215\n",
            "Epoch: 145, Loss: 0.4519\n",
            "Epoch: 146, Loss: 0.3940\n",
            "Epoch: 147, Loss: 0.4429\n",
            "Epoch: 148, Loss: 0.3527\n",
            "Epoch: 149, Loss: 0.4390\n",
            "Epoch: 150, Loss: 0.4212\n",
            "Epoch: 151, Loss: 0.4128\n",
            "Epoch: 152, Loss: 0.3779\n",
            "Epoch: 153, Loss: 0.4801\n",
            "Epoch: 154, Loss: 0.4130\n",
            "Epoch: 155, Loss: 0.3962\n",
            "Epoch: 156, Loss: 0.4262\n",
            "Epoch: 157, Loss: 0.4210\n",
            "Epoch: 158, Loss: 0.4081\n",
            "Epoch: 159, Loss: 0.4066\n",
            "Epoch: 160, Loss: 0.3782\n",
            "Epoch: 161, Loss: 0.3836\n",
            "Epoch: 162, Loss: 0.4172\n",
            "Epoch: 163, Loss: 0.3993\n",
            "Epoch: 164, Loss: 0.4477\n",
            "Epoch: 165, Loss: 0.3714\n",
            "Epoch: 166, Loss: 0.3610\n",
            "Epoch: 167, Loss: 0.4546\n",
            "Epoch: 168, Loss: 0.4387\n",
            "Epoch: 169, Loss: 0.3793\n",
            "Epoch: 170, Loss: 0.3704\n",
            "Epoch: 171, Loss: 0.4286\n",
            "Epoch: 172, Loss: 0.4131\n",
            "Epoch: 173, Loss: 0.3795\n",
            "Epoch: 174, Loss: 0.4230\n",
            "Epoch: 175, Loss: 0.4139\n",
            "Epoch: 176, Loss: 0.3586\n",
            "Epoch: 177, Loss: 0.3588\n",
            "Epoch: 178, Loss: 0.3911\n",
            "Epoch: 179, Loss: 0.3810\n",
            "Epoch: 180, Loss: 0.4203\n",
            "Epoch: 181, Loss: 0.3583\n",
            "Epoch: 182, Loss: 0.3690\n",
            "Epoch: 183, Loss: 0.4025\n",
            "Epoch: 184, Loss: 0.3920\n",
            "Epoch: 185, Loss: 0.4369\n",
            "Epoch: 186, Loss: 0.4317\n",
            "Epoch: 187, Loss: 0.4911\n",
            "Epoch: 188, Loss: 0.3369\n",
            "Epoch: 189, Loss: 0.4945\n",
            "Epoch: 190, Loss: 0.3912\n",
            "Epoch: 191, Loss: 0.3824\n",
            "Epoch: 192, Loss: 0.3479\n",
            "Epoch: 193, Loss: 0.3798\n",
            "Epoch: 194, Loss: 0.3799\n",
            "Epoch: 195, Loss: 0.4015\n",
            "Epoch: 196, Loss: 0.3615\n",
            "Epoch: 197, Loss: 0.3985\n",
            "Epoch: 198, Loss: 0.4664\n",
            "Epoch: 199, Loss: 0.3714\n",
            "Epoch: 200, Loss: 0.3810\n"
          ]
        }
      ]
    },
    {
      "cell_type": "code",
      "source": [
        "# After training the model, we can call the `test` function to see how well our model performs on unseen labels.\n",
        "\n",
        "test_acc = test()\n",
        "print(f'Test Accuracy: {test_acc:.4f}')"
      ],
      "metadata": {
        "colab": {
          "base_uri": "https://localhost:8080/"
        },
        "id": "hnojX-rquPE-",
        "outputId": "6ea55625-7295-49da-a599-6ed15819c3fe"
      },
      "execution_count": 88,
      "outputs": [
        {
          "output_type": "stream",
          "name": "stdout",
          "text": [
            "Test Accuracy: 0.5900\n"
          ]
        }
      ]
    },
    {
      "cell_type": "markdown",
      "source": [
        "As one can see, our MLP performs rather bad with only about 59% test accuracy.\n",
        "But why does the MLP do not perform better?\n",
        "The main reason for that is that this model suffers from heavy overfitting due to only having access to a **small amount of training nodes**, and therefore generalizes poorly to unseen node representations.\n",
        "\n",
        "It also fails to incorporate an important bias into the model: **Cited papers are very likely related to the category of a document**.\n",
        "That is exactly where Graph Neural Networks come into play and can help to boost the performance of our model.\n",
        "\n"
      ],
      "metadata": {
        "id": "xJlgyUCzuUVI"
      }
    },
    {
      "cell_type": "markdown",
      "source": [
        "## Training a Graph Neural Network (GNN)\n",
        "\n",
        "We can easily convert our MLP to a GNN by swapping the `torch.nn.Linear` layers with PyG's GNN operators.\n",
        "\n",
        "We replace the linear layers by the [`GCNConv`](https://pytorch-geometric.readthedocs.io/en/latest/modules/nn.html#torch_geometric.nn.conv.GCNConv) module.\n",
        "To recap, the **GCN layer** ([Kipf et al. (2017)](https://arxiv.org/abs/1609.02907)) is defined as\n",
        "\n",
        "$$\n",
        "\\mathbf{x}_v^{(\\ell + 1)} = \\mathbf{W}^{(\\ell + 1)} \\sum_{w \\in \\mathcal{N}(v) \\, \\cup \\, \\{ v \\}} \\frac{1}{c_{w,v}} \\cdot \\mathbf{x}_w^{(\\ell)}\n",
        "$$\n",
        "\n",
        "where $\\mathbf{W}^{(\\ell + 1)}$ denotes a trainable weight matrix of shape `[num_output_features, num_input_features]` and $c_{w,v}$ refers to a fixed normalization coefficient for each edge.\n",
        "In contrast, a single `Linear` layer is defined as\n",
        "\n",
        "$$\n",
        "\\mathbf{x}_v^{(\\ell + 1)} = \\mathbf{W}^{(\\ell + 1)} \\mathbf{x}_v^{(\\ell)}\n",
        "$$\n",
        "\n",
        "which does not make use of neighboring node information."
      ],
      "metadata": {
        "id": "onbnhoE2uc8a"
      }
    },
    {
      "cell_type": "code",
      "source": [
        "from torch_geometric.nn import GCNConv\n",
        "\n",
        "\n",
        "class GCN(torch.nn.Module):\n",
        "    def __init__(self, hidden_channels):\n",
        "        super().__init__()\n",
        "        torch.manual_seed(1234567)\n",
        "        self.conv1 = GCNConv(dataset.num_features, hidden_channels)\n",
        "        self.conv2 = GCNConv(hidden_channels, dataset.num_classes)\n",
        "\n",
        "    def forward(self, x, edge_index):\n",
        "        x = self.conv1(x, edge_index)\n",
        "        x = x.relu()\n",
        "        x = F.dropout(x, p=0.5, training=self.training)\n",
        "        x = self.conv2(x, edge_index)\n",
        "        return x\n",
        "\n",
        "model = GCN(hidden_channels=16)\n",
        "print(model)\n"
      ],
      "metadata": {
        "colab": {
          "base_uri": "https://localhost:8080/"
        },
        "id": "rtq0ICzguoVm",
        "outputId": "28231dd5-25de-448b-b8dc-c842b6343d96"
      },
      "execution_count": 89,
      "outputs": [
        {
          "output_type": "stream",
          "name": "stdout",
          "text": [
            "GCN(\n",
            "  (conv1): GCNConv(1433, 16)\n",
            "  (conv2): GCNConv(16, 7)\n",
            ")\n"
          ]
        }
      ]
    },
    {
      "cell_type": "markdown",
      "source": [
        "Let's visualize the node embeddings of our untrained GCN network. For visualization, we make use of TSNE to embed our 7-dimensional node embeddings onto a 2D plane."
      ],
      "metadata": {
        "id": "zE3J8936uzTj"
      }
    },
    {
      "cell_type": "code",
      "source": [
        "model = GCN(hidden_channels=16)\n",
        "model.eval()\n",
        "\n",
        "out = model(data.x, data.edge_index)\n",
        "visualize(out, color=data.y)"
      ],
      "metadata": {
        "id": "i-96onKEu0Zi"
      },
      "execution_count": null,
      "outputs": []
    },
    {
      "cell_type": "markdown",
      "source": [
        "We certainly can do better by training our model.\n",
        "The training and testing procedure is once again the same, but this time we make use of the node features `x` **and** the graph connectivity `edge_index` as input to our GCN model."
      ],
      "metadata": {
        "id": "DkvgEPZ3u8pa"
      }
    },
    {
      "cell_type": "code",
      "source": [
        "from IPython.display import Javascript  # Restrict height of output cell.\n",
        "display(Javascript('''google.colab.output.setIframeHeight(0, true, {maxHeight: 300})'''))\n",
        "\n",
        "model = GCN(hidden_channels=16)\n",
        "optimizer = torch.optim.Adam(model.parameters(), lr=0.01, weight_decay=5e-4)\n",
        "criterion = torch.nn.CrossEntropyLoss()\n",
        "\n",
        "def train():\n",
        "      model.train()\n",
        "      optimizer.zero_grad()  # Clear gradients.\n",
        "      out = model(data.x, data.edge_index)  # Perform a single forward pass.\n",
        "      loss = criterion(out[data.train_mask], data.y[data.train_mask])  # Compute the loss solely based on the training nodes.\n",
        "      loss.backward()  # Derive gradients.\n",
        "      optimizer.step()  # Update parameters based on gradients.\n",
        "      return loss\n",
        "\n",
        "def test():\n",
        "      model.eval()\n",
        "      out = model(data.x, data.edge_index)\n",
        "      pred = out.argmax(dim=1)  # Use the class with highest probability.\n",
        "      test_correct = pred[data.test_mask] == data.y[data.test_mask]  # Check against ground-truth labels.\n",
        "      test_acc = int(test_correct.sum()) / int(data.test_mask.sum())  # Derive ratio of correct predictions.\n",
        "      return test_acc\n",
        "\n",
        "\n",
        "for epoch in range(1, 101):\n",
        "    loss = train()\n",
        "    print(f'Epoch: {epoch:03d}, Loss: {loss:.4f}')"
      ],
      "metadata": {
        "colab": {
          "base_uri": "https://localhost:8080/",
          "height": 300
        },
        "id": "wB6QgDOsu9sN",
        "outputId": "b55fb6e7-3b09-49a8-edd2-e100e66d9adc"
      },
      "execution_count": 91,
      "outputs": [
        {
          "output_type": "display_data",
          "data": {
            "application/javascript": [
              "google.colab.output.setIframeHeight(0, true, {maxHeight: 300})"
            ],
            "text/plain": [
              "<IPython.core.display.Javascript object>"
            ]
          },
          "metadata": {}
        },
        {
          "output_type": "stream",
          "name": "stdout",
          "text": [
            "Epoch: 001, Loss: 1.9463\n",
            "Epoch: 002, Loss: 1.9409\n",
            "Epoch: 003, Loss: 1.9343\n",
            "Epoch: 004, Loss: 1.9275\n",
            "Epoch: 005, Loss: 1.9181\n",
            "Epoch: 006, Loss: 1.9086\n",
            "Epoch: 007, Loss: 1.9015\n",
            "Epoch: 008, Loss: 1.8933\n",
            "Epoch: 009, Loss: 1.8808\n",
            "Epoch: 010, Loss: 1.8685\n",
            "Epoch: 011, Loss: 1.8598\n",
            "Epoch: 012, Loss: 1.8482\n",
            "Epoch: 013, Loss: 1.8290\n",
            "Epoch: 014, Loss: 1.8233\n",
            "Epoch: 015, Loss: 1.8057\n",
            "Epoch: 016, Loss: 1.7966\n",
            "Epoch: 017, Loss: 1.7825\n",
            "Epoch: 018, Loss: 1.7617\n",
            "Epoch: 019, Loss: 1.7491\n",
            "Epoch: 020, Loss: 1.7310\n",
            "Epoch: 021, Loss: 1.7147\n",
            "Epoch: 022, Loss: 1.7056\n",
            "Epoch: 023, Loss: 1.6954\n",
            "Epoch: 024, Loss: 1.6697\n",
            "Epoch: 025, Loss: 1.6538\n",
            "Epoch: 026, Loss: 1.6312\n",
            "Epoch: 027, Loss: 1.6161\n",
            "Epoch: 028, Loss: 1.5899\n",
            "Epoch: 029, Loss: 1.5711\n",
            "Epoch: 030, Loss: 1.5576\n",
            "Epoch: 031, Loss: 1.5393\n",
            "Epoch: 032, Loss: 1.5137\n",
            "Epoch: 033, Loss: 1.4948\n",
            "Epoch: 034, Loss: 1.4913\n",
            "Epoch: 035, Loss: 1.4698\n",
            "Epoch: 036, Loss: 1.3998\n",
            "Epoch: 037, Loss: 1.4041\n",
            "Epoch: 038, Loss: 1.3761\n",
            "Epoch: 039, Loss: 1.3631\n",
            "Epoch: 040, Loss: 1.3258\n",
            "Epoch: 041, Loss: 1.3030\n",
            "Epoch: 042, Loss: 1.3119\n",
            "Epoch: 043, Loss: 1.2519\n",
            "Epoch: 044, Loss: 1.2530\n",
            "Epoch: 045, Loss: 1.2492\n",
            "Epoch: 046, Loss: 1.2205\n",
            "Epoch: 047, Loss: 1.2037\n",
            "Epoch: 048, Loss: 1.1571\n",
            "Epoch: 049, Loss: 1.1700\n",
            "Epoch: 050, Loss: 1.1296\n",
            "Epoch: 051, Loss: 1.0860\n",
            "Epoch: 052, Loss: 1.1080\n",
            "Epoch: 053, Loss: 1.0564\n",
            "Epoch: 054, Loss: 1.0157\n",
            "Epoch: 055, Loss: 1.0362\n",
            "Epoch: 056, Loss: 1.0328\n",
            "Epoch: 057, Loss: 1.0058\n",
            "Epoch: 058, Loss: 0.9865\n",
            "Epoch: 059, Loss: 0.9667\n",
            "Epoch: 060, Loss: 0.9741\n",
            "Epoch: 061, Loss: 0.9769\n",
            "Epoch: 062, Loss: 0.9122\n",
            "Epoch: 063, Loss: 0.8993\n",
            "Epoch: 064, Loss: 0.8769\n",
            "Epoch: 065, Loss: 0.8575\n",
            "Epoch: 066, Loss: 0.8897\n",
            "Epoch: 067, Loss: 0.8312\n",
            "Epoch: 068, Loss: 0.8262\n",
            "Epoch: 069, Loss: 0.8511\n",
            "Epoch: 070, Loss: 0.7711\n",
            "Epoch: 071, Loss: 0.8012\n",
            "Epoch: 072, Loss: 0.7529\n",
            "Epoch: 073, Loss: 0.7525\n",
            "Epoch: 074, Loss: 0.7689\n",
            "Epoch: 075, Loss: 0.7553\n",
            "Epoch: 076, Loss: 0.7032\n",
            "Epoch: 077, Loss: 0.7326\n",
            "Epoch: 078, Loss: 0.7122\n",
            "Epoch: 079, Loss: 0.7090\n",
            "Epoch: 080, Loss: 0.6755\n",
            "Epoch: 081, Loss: 0.6666\n",
            "Epoch: 082, Loss: 0.6679\n",
            "Epoch: 083, Loss: 0.7037\n",
            "Epoch: 084, Loss: 0.6752\n",
            "Epoch: 085, Loss: 0.6266\n",
            "Epoch: 086, Loss: 0.6564\n",
            "Epoch: 087, Loss: 0.6266\n",
            "Epoch: 088, Loss: 0.6411\n",
            "Epoch: 089, Loss: 0.6226\n",
            "Epoch: 090, Loss: 0.6535\n",
            "Epoch: 091, Loss: 0.6317\n",
            "Epoch: 092, Loss: 0.5741\n",
            "Epoch: 093, Loss: 0.5572\n",
            "Epoch: 094, Loss: 0.5710\n",
            "Epoch: 095, Loss: 0.5816\n",
            "Epoch: 096, Loss: 0.5745\n",
            "Epoch: 097, Loss: 0.5547\n",
            "Epoch: 098, Loss: 0.5989\n",
            "Epoch: 099, Loss: 0.6021\n",
            "Epoch: 100, Loss: 0.5799\n"
          ]
        }
      ]
    },
    {
      "cell_type": "code",
      "source": [
        "test_acc = test()\n",
        "print(f'Test Accuracy: {test_acc:.4f}')"
      ],
      "metadata": {
        "colab": {
          "base_uri": "https://localhost:8080/"
        },
        "id": "Ab3lu4YRvKHW",
        "outputId": "75f1ee9f-d2e4-4306-a2ce-91cd7f2f2a22"
      },
      "execution_count": 92,
      "outputs": [
        {
          "output_type": "stream",
          "name": "stdout",
          "text": [
            "Test Accuracy: 0.8150\n"
          ]
        }
      ]
    },
    {
      "cell_type": "code",
      "source": [
        "# visualize\n",
        "model.eval()\n",
        "\n",
        "out = model(data.x, data.edge_index)\n",
        "visualize(out, color=data.y)"
      ],
      "metadata": {
        "colab": {
          "base_uri": "https://localhost:8080/",
          "height": 647
        },
        "id": "3xL6lGfLvt_h",
        "outputId": "13ce960a-b2ae-471a-f5b6-6a4cca7e4397"
      },
      "execution_count": 93,
      "outputs": [
        {
          "output_type": "stream",
          "name": "stderr",
          "text": [
            "/usr/local/lib/python3.7/dist-packages/sklearn/manifold/_t_sne.py:783: FutureWarning: The default initialization in TSNE will change from 'random' to 'pca' in 1.2.\n",
            "  FutureWarning,\n",
            "/usr/local/lib/python3.7/dist-packages/sklearn/manifold/_t_sne.py:793: FutureWarning: The default learning rate in TSNE will change from 200.0 to 'auto' in 1.2.\n",
            "  FutureWarning,\n"
          ]
        },
        {
          "output_type": "display_data",
          "data": {
            "image/png": "[encoded data removed]",
            "text/plain": [
              "<Figure size 720x720 with 1 Axes>"
            ]
          },
          "metadata": {}
        }
      ]
    },
    {
      "cell_type": "markdown",
      "source": [
        "# Exercise \n",
        "\n",
        "To achieve better model performance and to avoid overfitting, it is usually a good idea to select the best model based on an additional validation set.\n",
        "The `Cora` dataset provides a validation node set as `data.val_mask`, but we haven't used it yet.\n",
        " \n",
        "Can you modify the code to select and test the model with the highest validation performance?\n",
        "What is the highest test performance you get?? "
      ],
      "metadata": {
        "id": "m2xRwGbhv5bY"
      }
    },
    {
      "cell_type": "code",
      "source": [
        "# your code here\n"
      ],
      "metadata": {
        "id": "MP4FdjQkzmYW"
      },
      "execution_count": null,
      "outputs": []
    },
    {
      "cell_type": "code",
      "source": [
        "#@title What is the highest test performance you get? \n",
        "Answer =\"\" #@param {type :'string'}"
      ],
      "metadata": {
        "cellView": "form",
        "id": "dr4RteaZznpg"
      },
      "execution_count": null,
      "outputs": []
    },
    {
      "cell_type": "markdown",
      "metadata": {
        "id": "DuSPTmwrVPd4"
      },
      "source": [
        "# Acknowledgement\n",
        "This exercise is inspired from https://github.com/zjost/blog_code/blob/master/gcn_numpy/message_passing.ipynb and https://pytorch-geometric.readthedocs.io/en/latest/notes/colabs.html"
      ]
    },
    {
      "cell_type": "markdown",
      "source": [
        "## Additional Resources for your own reading \n",
        "1. MNIST classification by GCN - https://github.com/dna1980drys/mnistGNN\n",
        "2. Traffice forecasting using Temporal GNN - https://www.youtube.com/watch?v=Rws9mf1aWUs&t=855s&ab_channel=DeepFindr \n",
        "2. other example - https://github.com/danielegrattarola/spektral/tree/31ddf0770f9dc94337ea4e8b0fa284783496b42c/examples \n"
      ],
      "metadata": {
        "id": "q7TTx2aA6oOX"
      }
    }
  ],
  "metadata": {
    "colab": {
      "name": "WOA7015_Wk9.ipynb",
      "provenance": [],
      "authorship_tag": "ABX9TyPJxYwMyhktdfGoe/HIogB7",
      "include_colab_link": true
    },
    "kernelspec": {
      "display_name": "Python 3",
      "name": "python3"
    },
    "language_info": {
      "name": "python"
    }
  },
  "nbformat": 4,
  "nbformat_minor": 0
}